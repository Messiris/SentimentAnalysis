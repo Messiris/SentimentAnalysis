{
 "cells": [
  {
   "cell_type": "markdown",
   "source": [
    "# Загрузка библиотек и данных"
   ],
   "metadata": {
    "collapsed": false
   }
  },
  {
   "cell_type": "code",
   "execution_count": 1,
   "metadata": {
    "collapsed": true
   },
   "outputs": [
    {
     "name": "stderr",
     "output_type": "stream",
     "text": [
      "[nltk_data] Downloading package stopwords to\n",
      "[nltk_data]     C:\\Users\\simbo\\AppData\\Roaming\\nltk_data...\n",
      "[nltk_data]   Package stopwords is already up-to-date!\n"
     ]
    }
   ],
   "source": [
    "import os\n",
    "import json\n",
    "import warnings\n",
    "import re\n",
    "import codecs\n",
    "import requests\n",
    "from tqdm import tqdm\n",
    "from bs4 import BeautifulSoup\n",
    "from multiprocessing import Pool\n",
    "from functools import reduce\n",
    "import numpy as np\n",
    "import pandas as pd\n",
    "import nltk\n",
    "nltk.download('stopwords')\n",
    "from nltk.corpus import stopwords\n",
    "from sklearn.utils import shuffle\n",
    "from sklearn.pipeline import Pipeline\n",
    "from sklearn.model_selection import RandomizedSearchCV, cross_val_score\n",
    "from sklearn.feature_extraction.text import TfidfTransformer, CountVectorizer, TfidfVectorizer\n",
    "from sklearn.svm import LinearSVC\n",
    "import matplotlib.pyplot as plt\n",
    "import seaborn as sns\n",
    "warnings.filterwarnings('ignore')\n",
    "%matplotlib inline\n",
    "sns.set_style('whitegrid')\n",
    "sns.set_palette('Set2')"
   ]
  },
  {
   "cell_type": "code",
   "execution_count": 2,
   "outputs": [],
   "source": [
    "wbdata = pd.read_csv('data/parsed_feedbacks.csv',index_col='Unnamed: 0',header=0, sep=\";\")"
   ],
   "metadata": {
    "collapsed": false
   }
  },
  {
   "cell_type": "code",
   "execution_count": 3,
   "outputs": [
    {
     "data": {
      "text/plain": "                      id  wbUserId     imtId      nmId  subjectId  \\\n0   ySk2BoQBbunnhI3g0xU9  64057163  25688833  36329770        593   \n1   MEk1BoQBCjydpYzrFmt5  51159913  25688833  36329770        593   \n2   D1YjBoQBeiioYr22EfmO  21510092  25688833  34190391        593   \n3   LZ8SBoQBwEHULCRVq4bn  94367198  25688833  34190391        593   \n4   jSkMBoQBbunnhI3gggIQ  14779696  25688833  34190391        593   \n5   88IMBoQBzFe4beEaQiDZ  59185698  25688833  34190391        593   \n6   GG8JBoQB10yVmMKUO_3g  88056066  25688833  36329770        593   \n7   SWsEBoQBZoamDvELzeRh  70385977  25688833  34190391        593   \n8   xQ37BYQBI2nds0aGU1ti  26896049  25688833  34190391        593   \n9   g2_0BYQB10yVmMKUZfMP  93261242  25688833  34190391        593   \n10  BNrZBYQBE-Uw035eYfm_  63764334  25688833  36329770        593   \n11  SMLKBYQBjTOCcEak9aht  55243341  25688833  36329770        593   \n12  XAvEBYQBKfYiBPKg0puk  33703151  25688833  34190391        593   \n13  F4K8BYQB_coMhyPZYsya  87742672  25688833  36329770        593   \n14  MWuuBYQBZoamDvELKbmy  47066750  25688833  36329770        593   \n15  9H-iBYQB65w5GC7jWAnT  18214725  25688833  34190391        593   \n16  TgqfBYQBJjG5B9ArL1gn  11180391  25688833  36329770        593   \n17  kQqXBYQBJjG5B9ArVFQE  40911182  25688833  34190391        593   \n18  VS-RBYQBTTPU1bwQIoWC  88998640  25688833  34190391        593   \n19  btqOBYQBE-Uw035eTtN_  39404652  25688833  34190391        593   \n20  swqGBYQBJjG5B9ArAUtp  63982237  25688833  36329770        593   \n21  dS-DBYQBTTPU1bwQBX7v  59379809  25688833  34190391        593   \n22  EVVqBYQBeiioYr22jIlb  55057992  25688833  34190391        593   \n23  4tZnBYQBBvkor_vvXS8q  23029055  25688833  36329770        593   \n24  MElhBYQBCjydpYzrYwbh  40507027  25688833  34190391        593   \n25  2QpcBYQBJjG5B9ArADe4  58348226  25688833  34190391        593   \n26  aQpaBYQBJjG5B9Ar-zdb  26248574  25688833  34190391        593   \n27  WlVYBYQBeiioYr22TmX6  25994146  25688833  34190391        593   \n28  cm9YBYQB10yVmMKULajK  38427716  25688833  34190391        593   \n29  fppXBYQB1_zcjfYM_zhF  10356629  25688833  34190391        593   \n\n                                                 text  pros  cons  isObscene  \\\n0                         Суперский наушник. Советую!   NaN   NaN      False   \n1   Все что было показано в информации соответству...   NaN   NaN      False   \n2   Наушники отличные. Звук яркий, в ушах лежат уд...   NaN   NaN      False   \n3                                  Всё хорошо спасибо   NaN   NaN      False   \n4   За такую цену и такие наушники. Афигенно. Звуч...   NaN   NaN      False   \n5   Все отлично ,звук ,качество материала ,единств...   NaN   NaN      False   \n6   Хорошие наушники, по бюджетной цене, спасибо з...   NaN   NaN      False   \n7   Хорошие наушники. Цена приятная. Звук хороший,...   NaN   NaN      False   \n8                              Удобные, хороший звук.   NaN   NaN      False   \n9                                         Все отлично   NaN   NaN      False   \n10  Звук чёткий, дизайн классный, форма удобная, я...   NaN   NaN      False   \n11                       Наушники хорошие. Рекомендую   NaN   NaN      False   \n12                   Наушники очень хорошие! Советую!   NaN   NaN      False   \n13          Наушники зачётные) Работают замечательно)   NaN   NaN      False   \n14  Наушники потрясающие!\\nЗвук хороший, лёгкие, у...   NaN   NaN      False   \n15  Наушники пушка-бомба!) 👌🏼💣 надеюсь очень ,что ...   NaN   NaN      False   \n16  Купила в подарок данные наушники.   Была прият...   NaN   NaN      False   \n17  Классные наушники,подарили на день рождение,зв...   NaN   NaN      False   \n18  Я очень довольна , зарядку держат долго, чехол...   NaN   NaN      False   \n19               Очень хорошие наушники я довольна 🥰👍   NaN   NaN      False   \n20  Качество звучания и качество самих наушников о...   NaN   NaN      False   \n21                                       Топ товар!!!   NaN   NaN      False   \n22     Наушниками довольна! Надеюсь прослужат долго 🤍   NaN   NaN      False   \n23  Наушники просто огонь 🔥🔥🔥. \\nПроверял на месте...   NaN   NaN      False   \n24  Наушники работают отлично,единственный минус, ...   NaN   NaN      False   \n25    Наушники хорошо сделаны, работают без нареканий   NaN   NaN      False   \n26                               Чисто играют.советую   NaN   NaN      False   \n27  Наушники отличного качества, что по звучанию,ч...   NaN   NaN      False   \n28                     Хорошие наушники ща свой прайс   NaN   NaN      False   \n29  Пришли хорошо упакованые, не мятые, не царапан...   NaN   NaN      False   \n\n   matchingSize  ... complaints answer supplierComplaint.creationDate  \\\n0           NaN  ...        NaN    NaN                            NaN   \n1           NaN  ...        NaN    NaN                            NaN   \n2           NaN  ...        NaN    NaN                            NaN   \n3           NaN  ...        NaN    NaN                            NaN   \n4           NaN  ...        NaN    NaN                            NaN   \n5           NaN  ...        NaN    NaN                            NaN   \n6           NaN  ...        NaN    NaN                            NaN   \n7           NaN  ...        NaN    NaN                            NaN   \n8           NaN  ...        NaN    NaN                            NaN   \n9           NaN  ...        NaN    NaN                            NaN   \n10          NaN  ...        NaN    NaN                            NaN   \n11          NaN  ...        NaN    NaN                            NaN   \n12          NaN  ...        NaN    NaN                            NaN   \n13          NaN  ...        NaN    NaN                            NaN   \n14          NaN  ...        NaN    NaN                            NaN   \n15          NaN  ...        NaN    NaN                            NaN   \n16          NaN  ...        NaN    NaN                            NaN   \n17          NaN  ...        NaN    NaN                            NaN   \n18          NaN  ...        NaN    NaN                            NaN   \n19          NaN  ...        NaN    NaN                            NaN   \n20          NaN  ...        NaN    NaN                            NaN   \n21          NaN  ...        NaN    NaN                            NaN   \n22          NaN  ...        NaN    NaN                            NaN   \n23          NaN  ...        NaN    NaN                            NaN   \n24          NaN  ...        NaN    NaN                            NaN   \n25          NaN  ...        NaN    NaN                            NaN   \n26          NaN  ...        NaN    NaN                            NaN   \n27          NaN  ...        NaN    NaN                            NaN   \n28          NaN  ...        NaN    NaN                            NaN   \n29          NaN  ...        NaN    NaN                            NaN   \n\n    supplierComplaint.botReviewDate supplierComplaint.employeeReviewDate  \\\n0                               NaN                                  NaN   \n1                               NaN                                  NaN   \n2                               NaN                                  NaN   \n3                               NaN                                  NaN   \n4                               NaN                                  NaN   \n5                               NaN                                  NaN   \n6                               NaN                                  NaN   \n7                               NaN                                  NaN   \n8                               NaN                                  NaN   \n9                               NaN                                  NaN   \n10                              NaN                                  NaN   \n11                              NaN                                  NaN   \n12                              NaN                                  NaN   \n13                              NaN                                  NaN   \n14                              NaN                                  NaN   \n15                              NaN                                  NaN   \n16                              NaN                                  NaN   \n17                              NaN                                  NaN   \n18                              NaN                                  NaN   \n19                              NaN                                  NaN   \n20                              NaN                                  NaN   \n21                              NaN                                  NaN   \n22                              NaN                                  NaN   \n23                              NaN                                  NaN   \n24                              NaN                                  NaN   \n25                              NaN                                  NaN   \n26                              NaN                                  NaN   \n27                              NaN                                  NaN   \n28                              NaN                                  NaN   \n29                              NaN                                  NaN   \n\n    supplierComplaint.state supplierComplaint.type  \\\n0                       NaN                    NaN   \n1                       NaN                    NaN   \n2                       NaN                    NaN   \n3                       NaN                    NaN   \n4                       NaN                    NaN   \n5                       NaN                    NaN   \n6                       NaN                    NaN   \n7                       NaN                    NaN   \n8                       NaN                    NaN   \n9                       NaN                    NaN   \n10                      NaN                    NaN   \n11                      NaN                    NaN   \n12                      NaN                    NaN   \n13                      NaN                    NaN   \n14                      NaN                    NaN   \n15                      NaN                    NaN   \n16                      NaN                    NaN   \n17                      NaN                    NaN   \n18                      NaN                    NaN   \n19                      NaN                    NaN   \n20                      NaN                    NaN   \n21                      NaN                    NaN   \n22                      NaN                    NaN   \n23                      NaN                    NaN   \n24                      NaN                    NaN   \n25                      NaN                    NaN   \n26                      NaN                    NaN   \n27                      NaN                    NaN   \n28                      NaN                    NaN   \n29                      NaN                    NaN   \n\n   supplierComplaint.answerForSupplier supplierComplaint.employeeID  comments  \n0                                  NaN                          NaN       NaN  \n1                                  NaN                          NaN       NaN  \n2                                  NaN                          NaN       NaN  \n3                                  NaN                          NaN       NaN  \n4                                  NaN                          NaN       NaN  \n5                                  NaN                          NaN       NaN  \n6                                  NaN                          NaN       NaN  \n7                                  NaN                          NaN       NaN  \n8                                  NaN                          NaN       NaN  \n9                                  NaN                          NaN       NaN  \n10                                 NaN                          NaN       NaN  \n11                                 NaN                          NaN       NaN  \n12                                 NaN                          NaN       NaN  \n13                                 NaN                          NaN       NaN  \n14                                 NaN                          NaN       NaN  \n15                                 NaN                          NaN       NaN  \n16                                 NaN                          NaN       NaN  \n17                                 NaN                          NaN       NaN  \n18                                 NaN                          NaN       NaN  \n19                                 NaN                          NaN       NaN  \n20                                 NaN                          NaN       NaN  \n21                                 NaN                          NaN       NaN  \n22                                 NaN                          NaN       NaN  \n23                                 NaN                          NaN       NaN  \n24                                 NaN                          NaN       NaN  \n25                                 NaN                          NaN       NaN  \n26                                 NaN                          NaN       NaN  \n27                                 NaN                          NaN       NaN  \n28                                 NaN                          NaN       NaN  \n29                                 NaN                          NaN       NaN  \n\n[30 rows x 60 columns]",
      "text/html": "<div>\n<style scoped>\n    .dataframe tbody tr th:only-of-type {\n        vertical-align: middle;\n    }\n\n    .dataframe tbody tr th {\n        vertical-align: top;\n    }\n\n    .dataframe thead th {\n        text-align: right;\n    }\n</style>\n<table border=\"1\" class=\"dataframe\">\n  <thead>\n    <tr style=\"text-align: right;\">\n      <th></th>\n      <th>id</th>\n      <th>wbUserId</th>\n      <th>imtId</th>\n      <th>nmId</th>\n      <th>subjectId</th>\n      <th>text</th>\n      <th>pros</th>\n      <th>cons</th>\n      <th>isObscene</th>\n      <th>matchingSize</th>\n      <th>...</th>\n      <th>complaints</th>\n      <th>answer</th>\n      <th>supplierComplaint.creationDate</th>\n      <th>supplierComplaint.botReviewDate</th>\n      <th>supplierComplaint.employeeReviewDate</th>\n      <th>supplierComplaint.state</th>\n      <th>supplierComplaint.type</th>\n      <th>supplierComplaint.answerForSupplier</th>\n      <th>supplierComplaint.employeeID</th>\n      <th>comments</th>\n    </tr>\n  </thead>\n  <tbody>\n    <tr>\n      <th>0</th>\n      <td>ySk2BoQBbunnhI3g0xU9</td>\n      <td>64057163</td>\n      <td>25688833</td>\n      <td>36329770</td>\n      <td>593</td>\n      <td>Суперский наушник. Советую!</td>\n      <td>NaN</td>\n      <td>NaN</td>\n      <td>False</td>\n      <td>NaN</td>\n      <td>...</td>\n      <td>NaN</td>\n      <td>NaN</td>\n      <td>NaN</td>\n      <td>NaN</td>\n      <td>NaN</td>\n      <td>NaN</td>\n      <td>NaN</td>\n      <td>NaN</td>\n      <td>NaN</td>\n      <td>NaN</td>\n    </tr>\n    <tr>\n      <th>1</th>\n      <td>MEk1BoQBCjydpYzrFmt5</td>\n      <td>51159913</td>\n      <td>25688833</td>\n      <td>36329770</td>\n      <td>593</td>\n      <td>Все что было показано в информации соответству...</td>\n      <td>NaN</td>\n      <td>NaN</td>\n      <td>False</td>\n      <td>NaN</td>\n      <td>...</td>\n      <td>NaN</td>\n      <td>NaN</td>\n      <td>NaN</td>\n      <td>NaN</td>\n      <td>NaN</td>\n      <td>NaN</td>\n      <td>NaN</td>\n      <td>NaN</td>\n      <td>NaN</td>\n      <td>NaN</td>\n    </tr>\n    <tr>\n      <th>2</th>\n      <td>D1YjBoQBeiioYr22EfmO</td>\n      <td>21510092</td>\n      <td>25688833</td>\n      <td>34190391</td>\n      <td>593</td>\n      <td>Наушники отличные. Звук яркий, в ушах лежат уд...</td>\n      <td>NaN</td>\n      <td>NaN</td>\n      <td>False</td>\n      <td>NaN</td>\n      <td>...</td>\n      <td>NaN</td>\n      <td>NaN</td>\n      <td>NaN</td>\n      <td>NaN</td>\n      <td>NaN</td>\n      <td>NaN</td>\n      <td>NaN</td>\n      <td>NaN</td>\n      <td>NaN</td>\n      <td>NaN</td>\n    </tr>\n    <tr>\n      <th>3</th>\n      <td>LZ8SBoQBwEHULCRVq4bn</td>\n      <td>94367198</td>\n      <td>25688833</td>\n      <td>34190391</td>\n      <td>593</td>\n      <td>Всё хорошо спасибо</td>\n      <td>NaN</td>\n      <td>NaN</td>\n      <td>False</td>\n      <td>NaN</td>\n      <td>...</td>\n      <td>NaN</td>\n      <td>NaN</td>\n      <td>NaN</td>\n      <td>NaN</td>\n      <td>NaN</td>\n      <td>NaN</td>\n      <td>NaN</td>\n      <td>NaN</td>\n      <td>NaN</td>\n      <td>NaN</td>\n    </tr>\n    <tr>\n      <th>4</th>\n      <td>jSkMBoQBbunnhI3gggIQ</td>\n      <td>14779696</td>\n      <td>25688833</td>\n      <td>34190391</td>\n      <td>593</td>\n      <td>За такую цену и такие наушники. Афигенно. Звуч...</td>\n      <td>NaN</td>\n      <td>NaN</td>\n      <td>False</td>\n      <td>NaN</td>\n      <td>...</td>\n      <td>NaN</td>\n      <td>NaN</td>\n      <td>NaN</td>\n      <td>NaN</td>\n      <td>NaN</td>\n      <td>NaN</td>\n      <td>NaN</td>\n      <td>NaN</td>\n      <td>NaN</td>\n      <td>NaN</td>\n    </tr>\n    <tr>\n      <th>5</th>\n      <td>88IMBoQBzFe4beEaQiDZ</td>\n      <td>59185698</td>\n      <td>25688833</td>\n      <td>34190391</td>\n      <td>593</td>\n      <td>Все отлично ,звук ,качество материала ,единств...</td>\n      <td>NaN</td>\n      <td>NaN</td>\n      <td>False</td>\n      <td>NaN</td>\n      <td>...</td>\n      <td>NaN</td>\n      <td>NaN</td>\n      <td>NaN</td>\n      <td>NaN</td>\n      <td>NaN</td>\n      <td>NaN</td>\n      <td>NaN</td>\n      <td>NaN</td>\n      <td>NaN</td>\n      <td>NaN</td>\n    </tr>\n    <tr>\n      <th>6</th>\n      <td>GG8JBoQB10yVmMKUO_3g</td>\n      <td>88056066</td>\n      <td>25688833</td>\n      <td>36329770</td>\n      <td>593</td>\n      <td>Хорошие наушники, по бюджетной цене, спасибо з...</td>\n      <td>NaN</td>\n      <td>NaN</td>\n      <td>False</td>\n      <td>NaN</td>\n      <td>...</td>\n      <td>NaN</td>\n      <td>NaN</td>\n      <td>NaN</td>\n      <td>NaN</td>\n      <td>NaN</td>\n      <td>NaN</td>\n      <td>NaN</td>\n      <td>NaN</td>\n      <td>NaN</td>\n      <td>NaN</td>\n    </tr>\n    <tr>\n      <th>7</th>\n      <td>SWsEBoQBZoamDvELzeRh</td>\n      <td>70385977</td>\n      <td>25688833</td>\n      <td>34190391</td>\n      <td>593</td>\n      <td>Хорошие наушники. Цена приятная. Звук хороший,...</td>\n      <td>NaN</td>\n      <td>NaN</td>\n      <td>False</td>\n      <td>NaN</td>\n      <td>...</td>\n      <td>NaN</td>\n      <td>NaN</td>\n      <td>NaN</td>\n      <td>NaN</td>\n      <td>NaN</td>\n      <td>NaN</td>\n      <td>NaN</td>\n      <td>NaN</td>\n      <td>NaN</td>\n      <td>NaN</td>\n    </tr>\n    <tr>\n      <th>8</th>\n      <td>xQ37BYQBI2nds0aGU1ti</td>\n      <td>26896049</td>\n      <td>25688833</td>\n      <td>34190391</td>\n      <td>593</td>\n      <td>Удобные, хороший звук.</td>\n      <td>NaN</td>\n      <td>NaN</td>\n      <td>False</td>\n      <td>NaN</td>\n      <td>...</td>\n      <td>NaN</td>\n      <td>NaN</td>\n      <td>NaN</td>\n      <td>NaN</td>\n      <td>NaN</td>\n      <td>NaN</td>\n      <td>NaN</td>\n      <td>NaN</td>\n      <td>NaN</td>\n      <td>NaN</td>\n    </tr>\n    <tr>\n      <th>9</th>\n      <td>g2_0BYQB10yVmMKUZfMP</td>\n      <td>93261242</td>\n      <td>25688833</td>\n      <td>34190391</td>\n      <td>593</td>\n      <td>Все отлично</td>\n      <td>NaN</td>\n      <td>NaN</td>\n      <td>False</td>\n      <td>NaN</td>\n      <td>...</td>\n      <td>NaN</td>\n      <td>NaN</td>\n      <td>NaN</td>\n      <td>NaN</td>\n      <td>NaN</td>\n      <td>NaN</td>\n      <td>NaN</td>\n      <td>NaN</td>\n      <td>NaN</td>\n      <td>NaN</td>\n    </tr>\n    <tr>\n      <th>10</th>\n      <td>BNrZBYQBE-Uw035eYfm_</td>\n      <td>63764334</td>\n      <td>25688833</td>\n      <td>36329770</td>\n      <td>593</td>\n      <td>Звук чёткий, дизайн классный, форма удобная, я...</td>\n      <td>NaN</td>\n      <td>NaN</td>\n      <td>False</td>\n      <td>NaN</td>\n      <td>...</td>\n      <td>NaN</td>\n      <td>NaN</td>\n      <td>NaN</td>\n      <td>NaN</td>\n      <td>NaN</td>\n      <td>NaN</td>\n      <td>NaN</td>\n      <td>NaN</td>\n      <td>NaN</td>\n      <td>NaN</td>\n    </tr>\n    <tr>\n      <th>11</th>\n      <td>SMLKBYQBjTOCcEak9aht</td>\n      <td>55243341</td>\n      <td>25688833</td>\n      <td>36329770</td>\n      <td>593</td>\n      <td>Наушники хорошие. Рекомендую</td>\n      <td>NaN</td>\n      <td>NaN</td>\n      <td>False</td>\n      <td>NaN</td>\n      <td>...</td>\n      <td>NaN</td>\n      <td>NaN</td>\n      <td>NaN</td>\n      <td>NaN</td>\n      <td>NaN</td>\n      <td>NaN</td>\n      <td>NaN</td>\n      <td>NaN</td>\n      <td>NaN</td>\n      <td>NaN</td>\n    </tr>\n    <tr>\n      <th>12</th>\n      <td>XAvEBYQBKfYiBPKg0puk</td>\n      <td>33703151</td>\n      <td>25688833</td>\n      <td>34190391</td>\n      <td>593</td>\n      <td>Наушники очень хорошие! Советую!</td>\n      <td>NaN</td>\n      <td>NaN</td>\n      <td>False</td>\n      <td>NaN</td>\n      <td>...</td>\n      <td>NaN</td>\n      <td>NaN</td>\n      <td>NaN</td>\n      <td>NaN</td>\n      <td>NaN</td>\n      <td>NaN</td>\n      <td>NaN</td>\n      <td>NaN</td>\n      <td>NaN</td>\n      <td>NaN</td>\n    </tr>\n    <tr>\n      <th>13</th>\n      <td>F4K8BYQB_coMhyPZYsya</td>\n      <td>87742672</td>\n      <td>25688833</td>\n      <td>36329770</td>\n      <td>593</td>\n      <td>Наушники зачётные) Работают замечательно)</td>\n      <td>NaN</td>\n      <td>NaN</td>\n      <td>False</td>\n      <td>NaN</td>\n      <td>...</td>\n      <td>NaN</td>\n      <td>NaN</td>\n      <td>NaN</td>\n      <td>NaN</td>\n      <td>NaN</td>\n      <td>NaN</td>\n      <td>NaN</td>\n      <td>NaN</td>\n      <td>NaN</td>\n      <td>NaN</td>\n    </tr>\n    <tr>\n      <th>14</th>\n      <td>MWuuBYQBZoamDvELKbmy</td>\n      <td>47066750</td>\n      <td>25688833</td>\n      <td>36329770</td>\n      <td>593</td>\n      <td>Наушники потрясающие!\\nЗвук хороший, лёгкие, у...</td>\n      <td>NaN</td>\n      <td>NaN</td>\n      <td>False</td>\n      <td>NaN</td>\n      <td>...</td>\n      <td>NaN</td>\n      <td>NaN</td>\n      <td>NaN</td>\n      <td>NaN</td>\n      <td>NaN</td>\n      <td>NaN</td>\n      <td>NaN</td>\n      <td>NaN</td>\n      <td>NaN</td>\n      <td>NaN</td>\n    </tr>\n    <tr>\n      <th>15</th>\n      <td>9H-iBYQB65w5GC7jWAnT</td>\n      <td>18214725</td>\n      <td>25688833</td>\n      <td>34190391</td>\n      <td>593</td>\n      <td>Наушники пушка-бомба!) 👌🏼💣 надеюсь очень ,что ...</td>\n      <td>NaN</td>\n      <td>NaN</td>\n      <td>False</td>\n      <td>NaN</td>\n      <td>...</td>\n      <td>NaN</td>\n      <td>NaN</td>\n      <td>NaN</td>\n      <td>NaN</td>\n      <td>NaN</td>\n      <td>NaN</td>\n      <td>NaN</td>\n      <td>NaN</td>\n      <td>NaN</td>\n      <td>NaN</td>\n    </tr>\n    <tr>\n      <th>16</th>\n      <td>TgqfBYQBJjG5B9ArL1gn</td>\n      <td>11180391</td>\n      <td>25688833</td>\n      <td>36329770</td>\n      <td>593</td>\n      <td>Купила в подарок данные наушники.   Была прият...</td>\n      <td>NaN</td>\n      <td>NaN</td>\n      <td>False</td>\n      <td>NaN</td>\n      <td>...</td>\n      <td>NaN</td>\n      <td>NaN</td>\n      <td>NaN</td>\n      <td>NaN</td>\n      <td>NaN</td>\n      <td>NaN</td>\n      <td>NaN</td>\n      <td>NaN</td>\n      <td>NaN</td>\n      <td>NaN</td>\n    </tr>\n    <tr>\n      <th>17</th>\n      <td>kQqXBYQBJjG5B9ArVFQE</td>\n      <td>40911182</td>\n      <td>25688833</td>\n      <td>34190391</td>\n      <td>593</td>\n      <td>Классные наушники,подарили на день рождение,зв...</td>\n      <td>NaN</td>\n      <td>NaN</td>\n      <td>False</td>\n      <td>NaN</td>\n      <td>...</td>\n      <td>NaN</td>\n      <td>NaN</td>\n      <td>NaN</td>\n      <td>NaN</td>\n      <td>NaN</td>\n      <td>NaN</td>\n      <td>NaN</td>\n      <td>NaN</td>\n      <td>NaN</td>\n      <td>NaN</td>\n    </tr>\n    <tr>\n      <th>18</th>\n      <td>VS-RBYQBTTPU1bwQIoWC</td>\n      <td>88998640</td>\n      <td>25688833</td>\n      <td>34190391</td>\n      <td>593</td>\n      <td>Я очень довольна , зарядку держат долго, чехол...</td>\n      <td>NaN</td>\n      <td>NaN</td>\n      <td>False</td>\n      <td>NaN</td>\n      <td>...</td>\n      <td>NaN</td>\n      <td>NaN</td>\n      <td>NaN</td>\n      <td>NaN</td>\n      <td>NaN</td>\n      <td>NaN</td>\n      <td>NaN</td>\n      <td>NaN</td>\n      <td>NaN</td>\n      <td>NaN</td>\n    </tr>\n    <tr>\n      <th>19</th>\n      <td>btqOBYQBE-Uw035eTtN_</td>\n      <td>39404652</td>\n      <td>25688833</td>\n      <td>34190391</td>\n      <td>593</td>\n      <td>Очень хорошие наушники я довольна 🥰👍</td>\n      <td>NaN</td>\n      <td>NaN</td>\n      <td>False</td>\n      <td>NaN</td>\n      <td>...</td>\n      <td>NaN</td>\n      <td>NaN</td>\n      <td>NaN</td>\n      <td>NaN</td>\n      <td>NaN</td>\n      <td>NaN</td>\n      <td>NaN</td>\n      <td>NaN</td>\n      <td>NaN</td>\n      <td>NaN</td>\n    </tr>\n    <tr>\n      <th>20</th>\n      <td>swqGBYQBJjG5B9ArAUtp</td>\n      <td>63982237</td>\n      <td>25688833</td>\n      <td>36329770</td>\n      <td>593</td>\n      <td>Качество звучания и качество самих наушников о...</td>\n      <td>NaN</td>\n      <td>NaN</td>\n      <td>False</td>\n      <td>NaN</td>\n      <td>...</td>\n      <td>NaN</td>\n      <td>NaN</td>\n      <td>NaN</td>\n      <td>NaN</td>\n      <td>NaN</td>\n      <td>NaN</td>\n      <td>NaN</td>\n      <td>NaN</td>\n      <td>NaN</td>\n      <td>NaN</td>\n    </tr>\n    <tr>\n      <th>21</th>\n      <td>dS-DBYQBTTPU1bwQBX7v</td>\n      <td>59379809</td>\n      <td>25688833</td>\n      <td>34190391</td>\n      <td>593</td>\n      <td>Топ товар!!!</td>\n      <td>NaN</td>\n      <td>NaN</td>\n      <td>False</td>\n      <td>NaN</td>\n      <td>...</td>\n      <td>NaN</td>\n      <td>NaN</td>\n      <td>NaN</td>\n      <td>NaN</td>\n      <td>NaN</td>\n      <td>NaN</td>\n      <td>NaN</td>\n      <td>NaN</td>\n      <td>NaN</td>\n      <td>NaN</td>\n    </tr>\n    <tr>\n      <th>22</th>\n      <td>EVVqBYQBeiioYr22jIlb</td>\n      <td>55057992</td>\n      <td>25688833</td>\n      <td>34190391</td>\n      <td>593</td>\n      <td>Наушниками довольна! Надеюсь прослужат долго 🤍</td>\n      <td>NaN</td>\n      <td>NaN</td>\n      <td>False</td>\n      <td>NaN</td>\n      <td>...</td>\n      <td>NaN</td>\n      <td>NaN</td>\n      <td>NaN</td>\n      <td>NaN</td>\n      <td>NaN</td>\n      <td>NaN</td>\n      <td>NaN</td>\n      <td>NaN</td>\n      <td>NaN</td>\n      <td>NaN</td>\n    </tr>\n    <tr>\n      <th>23</th>\n      <td>4tZnBYQBBvkor_vvXS8q</td>\n      <td>23029055</td>\n      <td>25688833</td>\n      <td>36329770</td>\n      <td>593</td>\n      <td>Наушники просто огонь 🔥🔥🔥. \\nПроверял на месте...</td>\n      <td>NaN</td>\n      <td>NaN</td>\n      <td>False</td>\n      <td>NaN</td>\n      <td>...</td>\n      <td>NaN</td>\n      <td>NaN</td>\n      <td>NaN</td>\n      <td>NaN</td>\n      <td>NaN</td>\n      <td>NaN</td>\n      <td>NaN</td>\n      <td>NaN</td>\n      <td>NaN</td>\n      <td>NaN</td>\n    </tr>\n    <tr>\n      <th>24</th>\n      <td>MElhBYQBCjydpYzrYwbh</td>\n      <td>40507027</td>\n      <td>25688833</td>\n      <td>34190391</td>\n      <td>593</td>\n      <td>Наушники работают отлично,единственный минус, ...</td>\n      <td>NaN</td>\n      <td>NaN</td>\n      <td>False</td>\n      <td>NaN</td>\n      <td>...</td>\n      <td>NaN</td>\n      <td>NaN</td>\n      <td>NaN</td>\n      <td>NaN</td>\n      <td>NaN</td>\n      <td>NaN</td>\n      <td>NaN</td>\n      <td>NaN</td>\n      <td>NaN</td>\n      <td>NaN</td>\n    </tr>\n    <tr>\n      <th>25</th>\n      <td>2QpcBYQBJjG5B9ArADe4</td>\n      <td>58348226</td>\n      <td>25688833</td>\n      <td>34190391</td>\n      <td>593</td>\n      <td>Наушники хорошо сделаны, работают без нареканий</td>\n      <td>NaN</td>\n      <td>NaN</td>\n      <td>False</td>\n      <td>NaN</td>\n      <td>...</td>\n      <td>NaN</td>\n      <td>NaN</td>\n      <td>NaN</td>\n      <td>NaN</td>\n      <td>NaN</td>\n      <td>NaN</td>\n      <td>NaN</td>\n      <td>NaN</td>\n      <td>NaN</td>\n      <td>NaN</td>\n    </tr>\n    <tr>\n      <th>26</th>\n      <td>aQpaBYQBJjG5B9Ar-zdb</td>\n      <td>26248574</td>\n      <td>25688833</td>\n      <td>34190391</td>\n      <td>593</td>\n      <td>Чисто играют.советую</td>\n      <td>NaN</td>\n      <td>NaN</td>\n      <td>False</td>\n      <td>NaN</td>\n      <td>...</td>\n      <td>NaN</td>\n      <td>NaN</td>\n      <td>NaN</td>\n      <td>NaN</td>\n      <td>NaN</td>\n      <td>NaN</td>\n      <td>NaN</td>\n      <td>NaN</td>\n      <td>NaN</td>\n      <td>NaN</td>\n    </tr>\n    <tr>\n      <th>27</th>\n      <td>WlVYBYQBeiioYr22TmX6</td>\n      <td>25994146</td>\n      <td>25688833</td>\n      <td>34190391</td>\n      <td>593</td>\n      <td>Наушники отличного качества, что по звучанию,ч...</td>\n      <td>NaN</td>\n      <td>NaN</td>\n      <td>False</td>\n      <td>NaN</td>\n      <td>...</td>\n      <td>NaN</td>\n      <td>NaN</td>\n      <td>NaN</td>\n      <td>NaN</td>\n      <td>NaN</td>\n      <td>NaN</td>\n      <td>NaN</td>\n      <td>NaN</td>\n      <td>NaN</td>\n      <td>NaN</td>\n    </tr>\n    <tr>\n      <th>28</th>\n      <td>cm9YBYQB10yVmMKULajK</td>\n      <td>38427716</td>\n      <td>25688833</td>\n      <td>34190391</td>\n      <td>593</td>\n      <td>Хорошие наушники ща свой прайс</td>\n      <td>NaN</td>\n      <td>NaN</td>\n      <td>False</td>\n      <td>NaN</td>\n      <td>...</td>\n      <td>NaN</td>\n      <td>NaN</td>\n      <td>NaN</td>\n      <td>NaN</td>\n      <td>NaN</td>\n      <td>NaN</td>\n      <td>NaN</td>\n      <td>NaN</td>\n      <td>NaN</td>\n      <td>NaN</td>\n    </tr>\n    <tr>\n      <th>29</th>\n      <td>fppXBYQB1_zcjfYM_zhF</td>\n      <td>10356629</td>\n      <td>25688833</td>\n      <td>34190391</td>\n      <td>593</td>\n      <td>Пришли хорошо упакованые, не мятые, не царапан...</td>\n      <td>NaN</td>\n      <td>NaN</td>\n      <td>False</td>\n      <td>NaN</td>\n      <td>...</td>\n      <td>NaN</td>\n      <td>NaN</td>\n      <td>NaN</td>\n      <td>NaN</td>\n      <td>NaN</td>\n      <td>NaN</td>\n      <td>NaN</td>\n      <td>NaN</td>\n      <td>NaN</td>\n      <td>NaN</td>\n    </tr>\n  </tbody>\n</table>\n<p>30 rows × 60 columns</p>\n</div>"
     },
     "execution_count": 3,
     "metadata": {},
     "output_type": "execute_result"
    }
   ],
   "source": [
    "wbdata.head(30)"
   ],
   "metadata": {
    "collapsed": false
   }
  },
  {
   "cell_type": "code",
   "execution_count": 140,
   "outputs": [],
   "source": [
    "col_mapping = [f\"{c[0]}:{c[1]}\" for c in enumerate(wbdata.columns)]"
   ],
   "metadata": {
    "collapsed": false
   }
  },
  {
   "cell_type": "code",
   "execution_count": 141,
   "outputs": [
    {
     "data": {
      "text/plain": "['0:id',\n '1:wbUserId',\n '2:imtId',\n '3:nmId',\n '4:subjectId',\n '5:text',\n '6:pros',\n '7:cons',\n '8:isObscene',\n '9:matchingSize',\n '10:matchingPhoto',\n '11:matchingDescription',\n '12:visibility',\n '13:productValuation',\n '14:color',\n '15:size',\n '16:createdDate',\n '17:updatedDate',\n '18:state',\n '19:metadata',\n '20:defectType',\n '21:feedbackHelpfulness',\n '22:photos',\n '23:photo',\n '24:video',\n '25:rank',\n '26:wasViewed',\n '27:supplierComplaint',\n '28:wbUserDetails.name',\n '29:wbUserDetails.country',\n '30:wbUserDetails.hasPhoto',\n '31:answer.text',\n '32:answer.supplierId',\n '33:answer.employeeId',\n '34:answer.metadata',\n '35:answer.state',\n '36:answer.editable',\n '37:answer.lastUpdate',\n '38:answer.createDate',\n '39:productDetails.imtId',\n '40:productDetails.nmId',\n '41:productDetails.productName',\n '42:productDetails.supplierArticle',\n '43:productDetails.supplierId',\n '44:productDetails.supplierName',\n '45:productDetails.brandId',\n '46:productDetails.brandName',\n '47:answerComplaints',\n '48:votes.pluses',\n '49:votes.minuses',\n '50:complaints',\n '51:answer',\n '52:supplierComplaint.creationDate',\n '53:supplierComplaint.botReviewDate',\n '54:supplierComplaint.employeeReviewDate',\n '55:supplierComplaint.state',\n '56:supplierComplaint.type',\n '57:supplierComplaint.answerForSupplier',\n '58:supplierComplaint.employeeID',\n '59:comments']"
     },
     "execution_count": 141,
     "metadata": {},
     "output_type": "execute_result"
    }
   ],
   "source": [
    "col_mapping"
   ],
   "metadata": {
    "collapsed": false
   }
  },
  {
   "cell_type": "code",
   "execution_count": 142,
   "outputs": [],
   "source": [
    "wdt = wbdata.iloc[:,[6,14]]\n",
    "wdt.rename(columns={'productValuation':'rating'},inplace=True)"
   ],
   "metadata": {
    "collapsed": false
   }
  },
  {
   "cell_type": "code",
   "execution_count": 143,
   "outputs": [
    {
     "ename": "KeyError",
     "evalue": "'text'",
     "output_type": "error",
     "traceback": [
      "\u001B[1;31m---------------------------------------------------------------------------\u001B[0m",
      "\u001B[1;31mKeyError\u001B[0m                                  Traceback (most recent call last)",
      "File \u001B[1;32md:\\my_data\\practice\\pyvenvs\\venv\\lib\\site-packages\\pandas\\core\\indexes\\base.py:3803\u001B[0m, in \u001B[0;36mIndex.get_loc\u001B[1;34m(self, key, method, tolerance)\u001B[0m\n\u001B[0;32m   3802\u001B[0m \u001B[38;5;28;01mtry\u001B[39;00m:\n\u001B[1;32m-> 3803\u001B[0m     \u001B[38;5;28;01mreturn\u001B[39;00m \u001B[38;5;28;43mself\u001B[39;49m\u001B[38;5;241;43m.\u001B[39;49m\u001B[43m_engine\u001B[49m\u001B[38;5;241;43m.\u001B[39;49m\u001B[43mget_loc\u001B[49m\u001B[43m(\u001B[49m\u001B[43mcasted_key\u001B[49m\u001B[43m)\u001B[49m\n\u001B[0;32m   3804\u001B[0m \u001B[38;5;28;01mexcept\u001B[39;00m \u001B[38;5;167;01mKeyError\u001B[39;00m \u001B[38;5;28;01mas\u001B[39;00m err:\n",
      "File \u001B[1;32md:\\my_data\\practice\\pyvenvs\\venv\\lib\\site-packages\\pandas\\_libs\\index.pyx:138\u001B[0m, in \u001B[0;36mpandas._libs.index.IndexEngine.get_loc\u001B[1;34m()\u001B[0m\n",
      "File \u001B[1;32md:\\my_data\\practice\\pyvenvs\\venv\\lib\\site-packages\\pandas\\_libs\\index.pyx:165\u001B[0m, in \u001B[0;36mpandas._libs.index.IndexEngine.get_loc\u001B[1;34m()\u001B[0m\n",
      "File \u001B[1;32mpandas\\_libs\\hashtable_class_helper.pxi:5745\u001B[0m, in \u001B[0;36mpandas._libs.hashtable.PyObjectHashTable.get_item\u001B[1;34m()\u001B[0m\n",
      "File \u001B[1;32mpandas\\_libs\\hashtable_class_helper.pxi:5753\u001B[0m, in \u001B[0;36mpandas._libs.hashtable.PyObjectHashTable.get_item\u001B[1;34m()\u001B[0m\n",
      "\u001B[1;31mKeyError\u001B[0m: 'text'",
      "\nThe above exception was the direct cause of the following exception:\n",
      "\u001B[1;31mKeyError\u001B[0m                                  Traceback (most recent call last)",
      "Cell \u001B[1;32mIn [143], line 1\u001B[0m\n\u001B[1;32m----> 1\u001B[0m wdt[\u001B[38;5;124m'\u001B[39m\u001B[38;5;124mlength\u001B[39m\u001B[38;5;124m'\u001B[39m] \u001B[38;5;241m=\u001B[39m \u001B[43mwdt\u001B[49m\u001B[43m[\u001B[49m\u001B[38;5;124;43m'\u001B[39;49m\u001B[38;5;124;43mtext\u001B[39;49m\u001B[38;5;124;43m'\u001B[39;49m\u001B[43m]\u001B[49m\u001B[38;5;241m.\u001B[39mapply(\u001B[38;5;28;01mlambda\u001B[39;00m x: \u001B[38;5;28mlen\u001B[39m(x))\n",
      "File \u001B[1;32md:\\my_data\\practice\\pyvenvs\\venv\\lib\\site-packages\\pandas\\core\\frame.py:3804\u001B[0m, in \u001B[0;36mDataFrame.__getitem__\u001B[1;34m(self, key)\u001B[0m\n\u001B[0;32m   3802\u001B[0m \u001B[38;5;28;01mif\u001B[39;00m \u001B[38;5;28mself\u001B[39m\u001B[38;5;241m.\u001B[39mcolumns\u001B[38;5;241m.\u001B[39mnlevels \u001B[38;5;241m>\u001B[39m \u001B[38;5;241m1\u001B[39m:\n\u001B[0;32m   3803\u001B[0m     \u001B[38;5;28;01mreturn\u001B[39;00m \u001B[38;5;28mself\u001B[39m\u001B[38;5;241m.\u001B[39m_getitem_multilevel(key)\n\u001B[1;32m-> 3804\u001B[0m indexer \u001B[38;5;241m=\u001B[39m \u001B[38;5;28;43mself\u001B[39;49m\u001B[38;5;241;43m.\u001B[39;49m\u001B[43mcolumns\u001B[49m\u001B[38;5;241;43m.\u001B[39;49m\u001B[43mget_loc\u001B[49m\u001B[43m(\u001B[49m\u001B[43mkey\u001B[49m\u001B[43m)\u001B[49m\n\u001B[0;32m   3805\u001B[0m \u001B[38;5;28;01mif\u001B[39;00m is_integer(indexer):\n\u001B[0;32m   3806\u001B[0m     indexer \u001B[38;5;241m=\u001B[39m [indexer]\n",
      "File \u001B[1;32md:\\my_data\\practice\\pyvenvs\\venv\\lib\\site-packages\\pandas\\core\\indexes\\base.py:3805\u001B[0m, in \u001B[0;36mIndex.get_loc\u001B[1;34m(self, key, method, tolerance)\u001B[0m\n\u001B[0;32m   3803\u001B[0m     \u001B[38;5;28;01mreturn\u001B[39;00m \u001B[38;5;28mself\u001B[39m\u001B[38;5;241m.\u001B[39m_engine\u001B[38;5;241m.\u001B[39mget_loc(casted_key)\n\u001B[0;32m   3804\u001B[0m \u001B[38;5;28;01mexcept\u001B[39;00m \u001B[38;5;167;01mKeyError\u001B[39;00m \u001B[38;5;28;01mas\u001B[39;00m err:\n\u001B[1;32m-> 3805\u001B[0m     \u001B[38;5;28;01mraise\u001B[39;00m \u001B[38;5;167;01mKeyError\u001B[39;00m(key) \u001B[38;5;28;01mfrom\u001B[39;00m \u001B[38;5;21;01merr\u001B[39;00m\n\u001B[0;32m   3806\u001B[0m \u001B[38;5;28;01mexcept\u001B[39;00m \u001B[38;5;167;01mTypeError\u001B[39;00m:\n\u001B[0;32m   3807\u001B[0m     \u001B[38;5;66;03m# If we have a listlike key, _check_indexing_error will raise\u001B[39;00m\n\u001B[0;32m   3808\u001B[0m     \u001B[38;5;66;03m#  InvalidIndexError. Otherwise we fall through and re-raise\u001B[39;00m\n\u001B[0;32m   3809\u001B[0m     \u001B[38;5;66;03m#  the TypeError.\u001B[39;00m\n\u001B[0;32m   3810\u001B[0m     \u001B[38;5;28mself\u001B[39m\u001B[38;5;241m.\u001B[39m_check_indexing_error(key)\n",
      "\u001B[1;31mKeyError\u001B[0m: 'text'"
     ]
    }
   ],
   "source": [
    "wdt['length'] = wdt['text'].apply(lambda x: len(x))"
   ],
   "metadata": {
    "collapsed": false
   }
  },
  {
   "cell_type": "code",
   "execution_count": 14,
   "outputs": [
    {
     "data": {
      "text/plain": "       Unnamed: 0                                               text  rating  \\\n20620       20620  У меня есть наушники honor magic earbuds, срав...       2   \n5909         5909  Про Хiaomi ни на коробке, ни на наушниках ни с...       4   \n49996       49996  Заказываю именно эти наушники уже шестой раз. ...       5   \n15204       15204  ПЛЮСЫ:\\nНаушники пришли целыми и рабочими. \\nО...       3   \n54778       54778  Достоинства:\\nЦена. Брал вроде 530 были по ски...       2   \n...           ...                                                ...     ...   \n48794       48794                                              Кайфы       5   \n6310         6310                                              👍👍👍👍👍       5   \n16649       16649                                               Вау!       5   \n52952       52952                                                 👍.       5   \n11746       11746                                                 👍.       5   \n\n       length  label  \n20620    1000   0.25  \n5909      999   0.75  \n49996     999   1.00  \n15204     999   0.50  \n54778     999   0.25  \n...       ...    ...  \n48794       5   1.00  \n6310        5   1.00  \n16649       4   1.00  \n52952       2   1.00  \n11746       2   1.00  \n\n[71565 rows x 5 columns]",
      "text/html": "<div>\n<style scoped>\n    .dataframe tbody tr th:only-of-type {\n        vertical-align: middle;\n    }\n\n    .dataframe tbody tr th {\n        vertical-align: top;\n    }\n\n    .dataframe thead th {\n        text-align: right;\n    }\n</style>\n<table border=\"1\" class=\"dataframe\">\n  <thead>\n    <tr style=\"text-align: right;\">\n      <th></th>\n      <th>Unnamed: 0</th>\n      <th>text</th>\n      <th>rating</th>\n      <th>length</th>\n      <th>label</th>\n    </tr>\n  </thead>\n  <tbody>\n    <tr>\n      <th>20620</th>\n      <td>20620</td>\n      <td>У меня есть наушники honor magic earbuds, срав...</td>\n      <td>2</td>\n      <td>1000</td>\n      <td>0.25</td>\n    </tr>\n    <tr>\n      <th>5909</th>\n      <td>5909</td>\n      <td>Про Хiaomi ни на коробке, ни на наушниках ни с...</td>\n      <td>4</td>\n      <td>999</td>\n      <td>0.75</td>\n    </tr>\n    <tr>\n      <th>49996</th>\n      <td>49996</td>\n      <td>Заказываю именно эти наушники уже шестой раз. ...</td>\n      <td>5</td>\n      <td>999</td>\n      <td>1.00</td>\n    </tr>\n    <tr>\n      <th>15204</th>\n      <td>15204</td>\n      <td>ПЛЮСЫ:\\nНаушники пришли целыми и рабочими. \\nО...</td>\n      <td>3</td>\n      <td>999</td>\n      <td>0.50</td>\n    </tr>\n    <tr>\n      <th>54778</th>\n      <td>54778</td>\n      <td>Достоинства:\\nЦена. Брал вроде 530 были по ски...</td>\n      <td>2</td>\n      <td>999</td>\n      <td>0.25</td>\n    </tr>\n    <tr>\n      <th>...</th>\n      <td>...</td>\n      <td>...</td>\n      <td>...</td>\n      <td>...</td>\n      <td>...</td>\n    </tr>\n    <tr>\n      <th>48794</th>\n      <td>48794</td>\n      <td>Кайфы</td>\n      <td>5</td>\n      <td>5</td>\n      <td>1.00</td>\n    </tr>\n    <tr>\n      <th>6310</th>\n      <td>6310</td>\n      <td>👍👍👍👍👍</td>\n      <td>5</td>\n      <td>5</td>\n      <td>1.00</td>\n    </tr>\n    <tr>\n      <th>16649</th>\n      <td>16649</td>\n      <td>Вау!</td>\n      <td>5</td>\n      <td>4</td>\n      <td>1.00</td>\n    </tr>\n    <tr>\n      <th>52952</th>\n      <td>52952</td>\n      <td>👍.</td>\n      <td>5</td>\n      <td>2</td>\n      <td>1.00</td>\n    </tr>\n    <tr>\n      <th>11746</th>\n      <td>11746</td>\n      <td>👍.</td>\n      <td>5</td>\n      <td>2</td>\n      <td>1.00</td>\n    </tr>\n  </tbody>\n</table>\n<p>71565 rows × 5 columns</p>\n</div>"
     },
     "execution_count": 14,
     "metadata": {},
     "output_type": "execute_result"
    }
   ],
   "source": [
    "wdt.sort_values(by='length', ascending=False)"
   ],
   "metadata": {
    "collapsed": false
   }
  },
  {
   "cell_type": "code",
   "execution_count": null,
   "outputs": [],
   "source": [
    "wdt.describe().T"
   ],
   "metadata": {
    "collapsed": false
   }
  },
  {
   "cell_type": "code",
   "execution_count": null,
   "outputs": [],
   "source": [
    "for i in wdt.columns:\n",
    "    print(str(i) + ' : ' + str(wdt[i].nunique()))"
   ],
   "metadata": {
    "collapsed": false
   }
  },
  {
   "cell_type": "code",
   "execution_count": null,
   "outputs": [],
   "source": [
    "minwdt = wdt['rating'].min()\n",
    "maxwdt = wdt['rating'].max()"
   ],
   "metadata": {
    "collapsed": false
   }
  },
  {
   "cell_type": "code",
   "execution_count": null,
   "outputs": [],
   "source": [
    "wdt['label']=wdt['rating'].apply(lambda x: (x - minwdt)/(maxwdt - minwdt)).round(2)"
   ],
   "metadata": {
    "collapsed": false
   }
  },
  {
   "cell_type": "code",
   "execution_count": null,
   "outputs": [],
   "source": [
    "wdt.to_csv('data/wdtrain.csv',sep = ';')"
   ],
   "metadata": {
    "collapsed": false
   }
  },
  {
   "cell_type": "code",
   "execution_count": 4,
   "outputs": [],
   "source": [
    "wdt = pd.read_csv('data/wdtrain.csv',sep = ';')"
   ],
   "metadata": {
    "collapsed": false
   }
  },
  {
   "cell_type": "code",
   "execution_count": 25,
   "outputs": [],
   "source": [
    "testtext =wdt[wdt['length']==150].values[4,1]"
   ],
   "metadata": {
    "collapsed": false
   }
  },
  {
   "cell_type": "code",
   "execution_count": 13,
   "outputs": [
    {
     "data": {
      "text/plain": "'Очень удобные и качественные наушники) Звук огонь)'"
     },
     "execution_count": 13,
     "metadata": {},
     "output_type": "execute_result"
    }
   ],
   "source": [
    "testtext = wdt.take([1234])['text'].values[0]\n",
    "testtext"
   ],
   "metadata": {
    "collapsed": false
   }
  },
  {
   "cell_type": "code",
   "execution_count": 7,
   "outputs": [
    {
     "data": {
      "text/plain": "<Figure size 1000x800 with 1 Axes>",
      "image/png": "[encoded data removed]"
     },
     "metadata": {},
     "output_type": "display_data"
    }
   ],
   "source": [
    "fig = plt.figure(figsize=(10, 8))\n",
    "wdt['rating'].value_counts().plot(kind='bar');\n",
    "plt.title(\"Распределение целевой переменной\");\n",
    "plt.xlabel(\"Отзыв\");\n",
    "plt.ylabel(\"Количество текстов\");"
   ],
   "metadata": {
    "collapsed": false
   }
  },
  {
   "cell_type": "code",
   "execution_count": null,
   "outputs": [],
   "source": [
    "wdt['rating'].value_counts()"
   ],
   "metadata": {
    "collapsed": false
   }
  },
  {
   "cell_type": "code",
   "execution_count": null,
   "outputs": [],
   "source": [
    "wdt[wdt['rating']==5].sort_values('length', ascending=False).head(5000)"
   ],
   "metadata": {
    "collapsed": false
   }
  },
  {
   "cell_type": "code",
   "execution_count": 8,
   "outputs": [
    {
     "data": {
      "text/plain": "<Figure size 1000x800 with 1 Axes>",
      "image/png": "[encoded data removed]"
     },
     "metadata": {},
     "output_type": "display_data"
    }
   ],
   "source": [
    "df = wdt.copy()\n",
    "df['length'] = pd.cut(wdt['length'], bins=[0, 50, 100, 150, 250, 500, 750, 1000],\n",
    "                      labels=['0-50','50-100','100-150','150-250', '250-500', '500-750', '750-1000'])\n",
    "\n",
    "fig = plt.figure(figsize=(10, 8))\n",
    "sns.countplot(x='length', hue='rating', data=df);\n",
    "plt.title(\"Распределение длин текстов отзывов\");\n",
    "plt.xlabel(\"Длина текста\");\n",
    "plt.ylabel(\"Количество текстов\");"
   ],
   "metadata": {
    "collapsed": false
   }
  },
  {
   "cell_type": "markdown",
   "source": [
    "# Предобработка текста и приведение к нормальнольной форме"
   ],
   "metadata": {
    "collapsed": false
   }
  },
  {
   "cell_type": "code",
   "execution_count": 26,
   "outputs": [],
   "source": [
    "import pymorphy2\n",
    "\n",
    "lemmatizer = pymorphy2.MorphAnalyzer()\n",
    "def textnormalization(text, lemmatizer = pymorphy2.MorphAnalyzer()):\n",
    "    ''' Приведение русского текста к нормальной форме'''\n",
    "\n",
    "    text = text.lower()\n",
    "    text = re.sub(\"ё\", \"е\", text)\n",
    "    text = re.sub(\"[^а-я]+\", \" \", text)\n",
    "    while \"  \" in text:\n",
    "        text = re.sub(\"  \", \" \", text)\n",
    "    text = text.split(' ')\n",
    "    atext = ''\n",
    "    for tx in text:\n",
    "        txt = lemmatizer.normal_forms(tx)\n",
    "        atext = atext + ' ' + txt[0]\n",
    "    if atext[0] == ' ':\n",
    "        atext= atext[1:]\n",
    "    if atext[-1] == ' ':\n",
    "        atext= atext[:-1]\n",
    "    #print(atext)\n",
    "    return atext"
   ],
   "metadata": {
    "collapsed": false
   }
  },
  {
   "cell_type": "code",
   "execution_count": 27,
   "outputs": [
    {
     "name": "stdout",
     "output_type": "stream",
     "text": [
      "Наушники конечно очень хорошие ,но выключаются каждые 10 секунд по началу два часа работали замечательно ,а потом начали выключатся ,буду возвращать (\n",
      "наушник конечно очень хороший но выключаться каждый секунда по начало два час работать замечательный а потом начать выключиться быть возвращать\n"
     ]
    }
   ],
   "source": [
    "print(testtext)\n",
    "atext = textnormalization(testtext)\n",
    "print(atext)"
   ],
   "metadata": {
    "collapsed": false
   }
  },
  {
   "cell_type": "code",
   "execution_count": null,
   "outputs": [],
   "source": [
    "wdnt = wdt.copy()\n",
    "\n",
    "wdnt['text'] = wdnt['text'].apply(lambda x: textnormalization(x, lemmatizer))"
   ],
   "metadata": {
    "collapsed": false
   }
  },
  {
   "cell_type": "code",
   "execution_count": null,
   "outputs": [],
   "source": [
    "wdnt['length'] = wdnt['text'].apply(lambda x: len(x))"
   ],
   "metadata": {
    "collapsed": false
   }
  },
  {
   "cell_type": "code",
   "execution_count": null,
   "outputs": [],
   "source": [
    "wdnt['length']==0"
   ],
   "metadata": {
    "collapsed": false
   }
  },
  {
   "cell_type": "code",
   "execution_count": null,
   "outputs": [],
   "source": [
    "wdnt = wdnt.loc[wdnt['length']!=0]"
   ],
   "metadata": {
    "collapsed": false
   }
  },
  {
   "cell_type": "code",
   "execution_count": null,
   "outputs": [],
   "source": [
    "wdnt.sort_values('length', ascending=True).head(5000)"
   ],
   "metadata": {
    "collapsed": false
   }
  },
  {
   "cell_type": "code",
   "execution_count": null,
   "outputs": [],
   "source": [
    "wdnt.rename(columns={'Unnamed: 0': 'id'}, inplace = True)"
   ],
   "metadata": {
    "collapsed": false
   }
  },
  {
   "cell_type": "code",
   "execution_count": null,
   "outputs": [],
   "source": [
    "\n",
    "wdnt"
   ],
   "metadata": {
    "collapsed": false
   }
  },
  {
   "cell_type": "code",
   "execution_count": null,
   "outputs": [],
   "source": [
    "\n",
    "wdnt.to_csv('data/wdntrain.csv',sep = ';', index=False)"
   ],
   "metadata": {
    "collapsed": false
   }
  },
  {
   "cell_type": "code",
   "execution_count": null,
   "outputs": [],
   "source": [
    "wdnt = pd.read_csv('data/wdntrain.csv',sep = ';', index_col='id')\n",
    "wdnt.describe()"
   ],
   "metadata": {
    "collapsed": false
   }
  },
  {
   "cell_type": "code",
   "execution_count": null,
   "outputs": [],
   "source": [
    "df = wdnt.copy()\n",
    "df['length'] = pd.cut(wdnt['length'], bins=[0, 50, 100, 150, 250, 500, 750, 1000],\n",
    "                      labels=['0-50','50-100','100-150','150-250', '250-500', '500-750', '750-1000'])\n",
    "\n",
    "fig = plt.figure(figsize=(10, 8))\n",
    "sns.countplot(x='length', hue='rating', data=df);\n",
    "plt.title(\"Распределение длин текстов отзывов\");\n",
    "plt.xlabel(\"Длина текста\");\n",
    "plt.ylabel(\"Количество текстов\");"
   ],
   "metadata": {
    "collapsed": false
   }
  },
  {
   "cell_type": "code",
   "execution_count": null,
   "outputs": [],
   "source": [
    "wdnt[wdnt['rating']==5].sort_values('length', ascending=True).head(5000)"
   ],
   "metadata": {
    "collapsed": false
   }
  },
  {
   "cell_type": "code",
   "execution_count": null,
   "outputs": [],
   "source": [
    "df = wdnt.copy()\n",
    "df['length'] = pd.cut(wdnt['length'], bins=[0, 50, 100, 150, 250, 500, 750, 1000],\n",
    "                      labels=['0-50','50-100','100-150','150-250', '250-500', '500-750', '750-1000'])\n",
    "df['len'] = df['text'].apply(lambda x: len(x))"
   ],
   "metadata": {
    "collapsed": false
   }
  },
  {
   "cell_type": "code",
   "execution_count": null,
   "outputs": [],
   "source": [
    "df"
   ],
   "metadata": {
    "collapsed": false
   }
  },
  {
   "cell_type": "code",
   "execution_count": null,
   "outputs": [],
   "source": [
    "lengr = df.groupby('length')"
   ],
   "metadata": {
    "collapsed": false
   }
  },
  {
   "cell_type": "code",
   "execution_count": null,
   "outputs": [],
   "source": [
    "lengr.groups.keys()"
   ],
   "metadata": {
    "collapsed": false
   }
  },
  {
   "cell_type": "code",
   "execution_count": null,
   "outputs": [],
   "source": [
    "for key in lengr.groups.keys():\n",
    "    print(lengr.get_group(key).describe())"
   ],
   "metadata": {
    "collapsed": false
   }
  },
  {
   "cell_type": "code",
   "execution_count": null,
   "outputs": [],
   "source": [
    "gr = lengr.get_group('0-50')\n",
    "gr.groupby('rating').groups"
   ],
   "metadata": {
    "collapsed": false
   }
  },
  {
   "cell_type": "code",
   "execution_count": null,
   "outputs": [],
   "source": [
    "for x, y in df.groupby(['length','rating']):\n",
    "    print(x)\n",
    "    print(y['rating'].count())"
   ],
   "metadata": {
    "collapsed": false
   }
  },
  {
   "cell_type": "code",
   "execution_count": null,
   "outputs": [],
   "source": [
    "cwdnt = pd.DataFrame()\n",
    "for l, lgr in df.groupby('length'):\n",
    "    print('len: ',l)\n",
    "    rgr = lgr.groupby('rating')\n",
    "    agg_func_count = {'rating': ['count']}\n",
    "    a = rgr.agg(agg_func_count)\n",
    "    maxl = np.sort(a[('rating', 'count')].values)[-2]\n",
    "    print(a)\n",
    "    print(maxl)\n",
    "    for x, y in rgr:\n",
    "        print('rating: ',x)\n",
    "        cuted = y.sort_values('len', ascending=False).head(maxl)\n",
    "        cwdnt = pd.concat([cwdnt, cuted])"
   ],
   "metadata": {
    "collapsed": false
   }
  },
  {
   "cell_type": "code",
   "execution_count": null,
   "outputs": [],
   "source": [
    "cwdnt.to_csv('data/cutedwdntrain.csv',sep = ';')"
   ],
   "metadata": {
    "collapsed": false
   }
  },
  {
   "cell_type": "code",
   "execution_count": null,
   "outputs": [],
   "source": [
    "cwdnt = shuffle(cwdnt,random_state=42)"
   ],
   "metadata": {
    "collapsed": false
   }
  },
  {
   "cell_type": "code",
   "execution_count": null,
   "outputs": [],
   "source": [
    "df = cwdnt.copy()\n",
    "df['length'] = pd.cut(cwdnt['len'], bins=[0, 50, 100, 150, 250, 500, 750, 1000],\n",
    "                      labels=['0-50','50-100','100-150','150-250', '250-500', '500-750', '750-1000'])\n",
    "\n",
    "fig = plt.figure(figsize=(10, 8))\n",
    "sns.countplot(x='length', hue='rating', data=df);\n",
    "plt.title(\"Распределение длин текстов отзывов\");\n",
    "plt.xlabel(\"Длина текста\");\n",
    "plt.ylabel(\"Количество текстов\");"
   ],
   "metadata": {
    "collapsed": false
   }
  },
  {
   "cell_type": "markdown",
   "source": [
    "# Моделирование"
   ],
   "metadata": {
    "collapsed": false
   }
  },
  {
   "cell_type": "code",
   "execution_count": 2,
   "outputs": [],
   "source": [
    "train = pd.read_csv('data/cutedwdntrain.csv',sep = ';', index_col='id')\n",
    "train = shuffle(train, random_state=42)"
   ],
   "metadata": {
    "collapsed": false
   }
  },
  {
   "cell_type": "code",
   "execution_count": 3,
   "outputs": [],
   "source": [
    "def make_pipeline(vectorizer, transformer, classifier):\n",
    "    return Pipeline([\n",
    "            ('vectorizer', vectorizer),\n",
    "            ('transformer', transformer),\n",
    "            ('classifier', classifier)\n",
    "        ])"
   ],
   "metadata": {
    "collapsed": false
   }
  },
  {
   "cell_type": "code",
   "execution_count": 4,
   "outputs": [],
   "source": [
    "def make_estimator(classifier, params_grid, scorer, data, labels):\n",
    "    pipeline = make_pipeline(CountVectorizer(), TfidfTransformer(), classifier)\n",
    "    grid_cv = RandomizedSearchCV(pipeline, params_grid, scoring=scorer, cv=5,\n",
    "                                 random_state=42, n_iter=100, verbose=1, n_jobs=-1)\n",
    "    grid_cv.fit(data, labels)\n",
    "    return grid_cv"
   ],
   "metadata": {
    "collapsed": false
   }
  },
  {
   "cell_type": "markdown",
   "source": [
    "## Проверка выборки"
   ],
   "metadata": {
    "collapsed": false
   }
  },
  {
   "cell_type": "code",
   "execution_count": 10,
   "outputs": [],
   "source": [
    "texts = train['text'].values"
   ],
   "metadata": {
    "collapsed": false
   }
  },
  {
   "cell_type": "code",
   "execution_count": 26,
   "outputs": [
    {
     "data": {
      "text/plain": "array(['почти месяц наушник пока хорошо работать микрофон конечно подводить',\n       'писать огромный комментарий о тот какой они крутой но случайно закрыть поэтому кратко они тот стоять чтобы они заказать как человек у который наушник быть разный ценовой категория начинать от рубль и заканчивать тысяча мочь сказать точно этот наушник входить в мой топ хороший а такой у я мало я слишком хорошо разбираться в они поэтому за этот цена такой качество я слишком удивить посмотреть что быть',\n       'при чем тут фирма вообще грязный хлипкий наушник цена качество',\n       ..., 'хороший наушник интересный дизайн и хороший звук',\n       'прислать наушник не работать',\n       'ужасно через день использование левый наушник перестать работать а правый хрипеть повестись на отзыв но видимо они накрутить или купить так как вместе с наушник идти купон типо написать мы отзыв на звезда а мы вы сто рубль на карта не советовать продавец не помочь решить проблема ужас ужас и ещё раз ужас'],\n      dtype=object)"
     },
     "execution_count": 26,
     "metadata": {},
     "output_type": "execute_result"
    }
   ],
   "source": [
    "texts"
   ],
   "metadata": {
    "collapsed": false
   }
  },
  {
   "cell_type": "code",
   "execution_count": 11,
   "outputs": [],
   "source": [
    "vectorizer = CountVectorizer()\n",
    "X = vectorizer.fit_transform(texts)"
   ],
   "metadata": {
    "collapsed": false
   }
  },
  {
   "cell_type": "code",
   "execution_count": 27,
   "outputs": [
    {
     "data": {
      "text/plain": "<17445x9219 sparse matrix of type '<class 'numpy.int64'>'\n\twith 290496 stored elements in Compressed Sparse Row format>"
     },
     "execution_count": 27,
     "metadata": {},
     "output_type": "execute_result"
    }
   ],
   "source": [
    "X.shape"
   ],
   "metadata": {
    "collapsed": false
   }
  },
  {
   "cell_type": "code",
   "execution_count": 13,
   "outputs": [],
   "source": [
    "transformer = TfidfTransformer()"
   ],
   "metadata": {
    "collapsed": false
   }
  },
  {
   "cell_type": "code",
   "execution_count": 23,
   "outputs": [],
   "source": [
    "XX = transformer.fit_transform(X)"
   ],
   "metadata": {
    "collapsed": false
   }
  },
  {
   "cell_type": "code",
   "execution_count": 24,
   "outputs": [
    {
     "data": {
      "text/plain": "<17445x9219 sparse matrix of type '<class 'numpy.float64'>'\n\twith 290496 stored elements in Compressed Sparse Row format>"
     },
     "execution_count": 24,
     "metadata": {},
     "output_type": "execute_result"
    }
   ],
   "source": [
    "XX"
   ],
   "metadata": {
    "collapsed": false
   }
  },
  {
   "cell_type": "code",
   "execution_count": 25,
   "outputs": [
    {
     "name": "stdout",
     "output_type": "stream",
     "text": [
      "  (0, 8754)\t0.2429949603428106\n",
      "  (0, 6605)\t0.1628632230764314\n",
      "  (0, 5979)\t0.394298080635583\n",
      "  (0, 5622)\t0.33470498309033014\n",
      "  (0, 5419)\t0.584135485902065\n",
      "  (0, 3791)\t0.11129808559367206\n",
      "  (0, 3408)\t0.2885528675930569\n",
      "  (0, 3376)\t0.2809662661591509\n",
      "  (0, 2889)\t0.3621108778486231\n",
      "  (1, 9167)\t0.17353150240315532\n",
      "  (1, 8932)\t0.12237683733492379\n",
      "  (1, 8929)\t0.06505833716082206\n",
      "  (1, 8878)\t0.1269037184655478\n",
      "  (1, 8836)\t0.17949710307753056\n",
      "  (1, 8829)\t0.07269362838601004\n",
      "  (1, 8754)\t0.0763095351444535\n",
      "  (1, 8752)\t0.05748277345990891\n",
      "  (1, 8356)\t0.14305442070188867\n",
      "  (1, 8268)\t0.15729446233041725\n",
      "  (1, 8160)\t0.13682625339321824\n",
      "  (1, 8155)\t0.2007024699144945\n",
      "  (1, 8131)\t0.1335050073775914\n",
      "  (1, 7994)\t0.14974982692034733\n",
      "  (1, 7860)\t0.12257812347662082\n",
      "  (1, 7455)\t0.16359182000428102\n",
      "  :\t:\n",
      "  (17444, 5355)\t0.17197314310466216\n",
      "  (17444, 5178)\t0.0998334124047372\n",
      "  (17444, 4693)\t0.21515870435871082\n",
      "  (17444, 4495)\t0.07703127565767463\n",
      "  (17444, 4181)\t0.06130095261720241\n",
      "  (17444, 3837)\t0.08723812803142739\n",
      "  (17444, 3791)\t0.07771171235339872\n",
      "  (17444, 3690)\t0.12711523520416626\n",
      "  (17444, 3658)\t0.19954676482588343\n",
      "  (17444, 3572)\t0.1792643828010273\n",
      "  (17444, 3552)\t0.3095017977692508\n",
      "  (17444, 3134)\t0.10341349966607517\n",
      "  (17444, 3087)\t0.2023840832840788\n",
      "  (17444, 3085)\t0.10923786999099303\n",
      "  (17444, 2704)\t0.183962734994663\n",
      "  (17444, 2661)\t0.07999595704971645\n",
      "  (17444, 2588)\t0.117061429545177\n",
      "  (17444, 2509)\t0.11633104422966986\n",
      "  (17444, 2446)\t0.12783161974533772\n",
      "  (17444, 2343)\t0.11542169584011368\n",
      "  (17444, 1840)\t0.10564721564761306\n",
      "  (17444, 1484)\t0.09252845937800921\n",
      "  (17444, 1038)\t0.12559182302710567\n",
      "  (17444, 771)\t0.1793117899323511\n",
      "  (17444, 697)\t0.15986992263926098\n"
     ]
    }
   ],
   "source": [
    "print(XX)"
   ],
   "metadata": {
    "collapsed": false
   }
  },
  {
   "cell_type": "markdown",
   "source": [
    "## Только 1 и 5 Классификатор"
   ],
   "metadata": {
    "collapsed": false
   }
  },
  {
   "cell_type": "code",
   "execution_count": 12,
   "outputs": [],
   "source": [
    "train1 =  shuffle(pd.concat([train[train['label']==0],train[train['label']==1]]),random_state=42)"
   ],
   "metadata": {
    "collapsed": false
   }
  },
  {
   "cell_type": "code",
   "execution_count": 13,
   "outputs": [],
   "source": [
    "train1['label'] = train1['label'].apply(lambda x: int(x))"
   ],
   "metadata": {
    "collapsed": false
   }
  },
  {
   "cell_type": "code",
   "execution_count": 14,
   "outputs": [
    {
     "data": {
      "text/plain": "            rating        label          len\ncount  9641.000000  9641.000000  9641.000000\nmean      3.001037     0.500259   127.879369\nstd       2.000103     0.500026   119.964041\nmin       1.000000     0.000000     1.000000\n25%       1.000000     0.000000    49.000000\n50%       5.000000     1.000000    97.000000\n75%       5.000000     1.000000   149.000000\nmax       5.000000     1.000000   960.000000",
      "text/html": "<div>\n<style scoped>\n    .dataframe tbody tr th:only-of-type {\n        vertical-align: middle;\n    }\n\n    .dataframe tbody tr th {\n        vertical-align: top;\n    }\n\n    .dataframe thead th {\n        text-align: right;\n    }\n</style>\n<table border=\"1\" class=\"dataframe\">\n  <thead>\n    <tr style=\"text-align: right;\">\n      <th></th>\n      <th>rating</th>\n      <th>label</th>\n      <th>len</th>\n    </tr>\n  </thead>\n  <tbody>\n    <tr>\n      <th>count</th>\n      <td>9641.000000</td>\n      <td>9641.000000</td>\n      <td>9641.000000</td>\n    </tr>\n    <tr>\n      <th>mean</th>\n      <td>3.001037</td>\n      <td>0.500259</td>\n      <td>127.879369</td>\n    </tr>\n    <tr>\n      <th>std</th>\n      <td>2.000103</td>\n      <td>0.500026</td>\n      <td>119.964041</td>\n    </tr>\n    <tr>\n      <th>min</th>\n      <td>1.000000</td>\n      <td>0.000000</td>\n      <td>1.000000</td>\n    </tr>\n    <tr>\n      <th>25%</th>\n      <td>1.000000</td>\n      <td>0.000000</td>\n      <td>49.000000</td>\n    </tr>\n    <tr>\n      <th>50%</th>\n      <td>5.000000</td>\n      <td>1.000000</td>\n      <td>97.000000</td>\n    </tr>\n    <tr>\n      <th>75%</th>\n      <td>5.000000</td>\n      <td>1.000000</td>\n      <td>149.000000</td>\n    </tr>\n    <tr>\n      <th>max</th>\n      <td>5.000000</td>\n      <td>1.000000</td>\n      <td>960.000000</td>\n    </tr>\n  </tbody>\n</table>\n</div>"
     },
     "execution_count": 14,
     "metadata": {},
     "output_type": "execute_result"
    }
   ],
   "source": [
    "train1.describe()"
   ],
   "metadata": {
    "collapsed": false
   }
  },
  {
   "cell_type": "code",
   "execution_count": 15,
   "outputs": [],
   "source": [
    "X = train1['text'].values\n",
    "y = train1['label'].values"
   ],
   "metadata": {
    "collapsed": false
   }
  },
  {
   "cell_type": "code",
   "execution_count": 16,
   "outputs": [
    {
     "name": "stdout",
     "output_type": "stream",
     "text": [
      "LinearSVC - 0.9698165583612433\n"
     ]
    }
   ],
   "source": [
    "score = cross_val_score(make_pipeline(CountVectorizer(), TfidfTransformer(), LinearSVC(random_state=777)), X, y, cv=5)\n",
    "print(f\"LinearSVC - {score.mean()}\")"
   ],
   "metadata": {
    "collapsed": false
   }
  },
  {
   "cell_type": "code",
   "execution_count": 17,
   "outputs": [
    {
     "data": {
      "text/plain": "array([0.9683774 , 0.96939834, 0.97354772, 0.96524896, 0.97251037])"
     },
     "execution_count": 17,
     "metadata": {},
     "output_type": "execute_result"
    }
   ],
   "source": [
    "score"
   ],
   "metadata": {
    "collapsed": false
   }
  },
  {
   "cell_type": "markdown",
   "source": [
    "## Классификатор по всем меткам"
   ],
   "metadata": {
    "collapsed": false
   }
  },
  {
   "cell_type": "code",
   "execution_count": 5,
   "outputs": [],
   "source": [
    "X = train['text'].values\n",
    "y = train['rating'].values"
   ],
   "metadata": {
    "collapsed": false
   }
  },
  {
   "cell_type": "code",
   "execution_count": 6,
   "outputs": [
    {
     "data": {
      "text/plain": "array(['почти месяц наушник пока хорошо работать микрофон конечно подводить',\n       'писать огромный комментарий о тот какой они крутой но случайно закрыть поэтому кратко они тот стоять чтобы они заказать как человек у который наушник быть разный ценовой категория начинать от рубль и заканчивать тысяча мочь сказать точно этот наушник входить в мой топ хороший а такой у я мало я слишком хорошо разбираться в они поэтому за этот цена такой качество я слишком удивить посмотреть что быть',\n       'при чем тут фирма вообще грязный хлипкий наушник цена качество',\n       ..., 'хороший наушник интересный дизайн и хороший звук',\n       'прислать наушник не работать',\n       'ужасно через день использование левый наушник перестать работать а правый хрипеть повестись на отзыв но видимо они накрутить или купить так как вместе с наушник идти купон типо написать мы отзыв на звезда а мы вы сто рубль на карта не советовать продавец не помочь решить проблема ужас ужас и ещё раз ужас'],\n      dtype=object)"
     },
     "execution_count": 6,
     "metadata": {},
     "output_type": "execute_result"
    }
   ],
   "source": [
    "X"
   ],
   "metadata": {
    "collapsed": false
   }
  },
  {
   "cell_type": "code",
   "execution_count": 7,
   "outputs": [
    {
     "data": {
      "text/plain": "array([4, 5, 1, ..., 5, 1, 1], dtype=int64)"
     },
     "execution_count": 7,
     "metadata": {},
     "output_type": "execute_result"
    }
   ],
   "source": [
    "y"
   ],
   "metadata": {
    "collapsed": false
   }
  },
  {
   "cell_type": "code",
   "execution_count": 8,
   "outputs": [],
   "source": [
    "stop_words = stopwords.words('russian')"
   ],
   "metadata": {
    "collapsed": false
   }
  },
  {
   "cell_type": "code",
   "execution_count": 9,
   "outputs": [
    {
     "data": {
      "text/plain": "5    4823\n1    4818\n4    3575\n3    2402\n2    1827\nName: rating, dtype: int64"
     },
     "execution_count": 9,
     "metadata": {},
     "output_type": "execute_result"
    }
   ],
   "source": [
    "train['rating'].value_counts()"
   ],
   "metadata": {
    "collapsed": false
   }
  },
  {
   "cell_type": "code",
   "execution_count": 175,
   "outputs": [],
   "source": [
    "def make_pipeline(vectorizer, transformer, classifier):\n",
    "    return Pipeline([\n",
    "            ('vectorizer', vectorizer),\n",
    "            ('transformer', transformer),\n",
    "            ('classifier', classifier)\n",
    "        ])"
   ],
   "metadata": {
    "collapsed": false
   }
  },
  {
   "cell_type": "code",
   "execution_count": 176,
   "outputs": [],
   "source": [
    "def make_estimator(classifier, params_grid, scorer, data, labels):\n",
    "    pipeline = make_pipeline(CountVectorizer(), TfidfTransformer(), classifier)\n",
    "    grid_cv = RandomizedSearchCV(pipeline, params_grid, scoring=scorer, cv=5,\n",
    "                                 random_state=777, n_iter=100, verbose=1, n_jobs=-1)\n",
    "    grid_cv.fit(data, labels)\n",
    "    return grid_cv"
   ],
   "metadata": {
    "collapsed": false
   }
  },
  {
   "cell_type": "code",
   "execution_count": 180,
   "outputs": [
    {
     "name": "stdout",
     "output_type": "stream",
     "text": [
      "LinearSVC - 0.6811693895098883\n"
     ]
    }
   ],
   "source": [
    "#score = cross_val_score(make_pipeline(CountVectorizer(), TfidfTransformer(), LinearSVC(random_state=777)), X, y, cv=5)\n",
    "#print(f\"LinearSVC - {score.mean()}\")"
   ],
   "metadata": {
    "collapsed": false
   }
  },
  {
   "cell_type": "code",
   "execution_count": 181,
   "outputs": [
    {
     "data": {
      "text/plain": "array([0.68758957, 0.67669819, 0.68329034, 0.68099742, 0.67727142])"
     },
     "execution_count": 181,
     "metadata": {},
     "output_type": "execute_result"
    }
   ],
   "source": [
    "score"
   ],
   "metadata": {
    "collapsed": false
   }
  }
 ],
 "metadata": {
  "kernelspec": {
   "display_name": "Python 3",
   "language": "python",
   "name": "python3"
  },
  "language_info": {
   "codemirror_mode": {
    "name": "ipython",
    "version": 2
   },
   "file_extension": ".py",
   "mimetype": "text/x-python",
   "name": "python",
   "nbconvert_exporter": "python",
   "pygments_lexer": "ipython2",
   "version": "2.7.6"
  }
 },
 "nbformat": 4,
 "nbformat_minor": 0
}
