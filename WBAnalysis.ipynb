{
 "cells": [
  {
   "cell_type": "markdown",
   "source": [
    "# Импорт библиотек и выгрузка данных"
   ],
   "metadata": {
    "collapsed": false
   }
  },
  {
   "cell_type": "code",
   "execution_count": 6,
   "outputs": [
    {
     "name": "stderr",
     "output_type": "stream",
     "text": [
      "[nltk_data] Downloading package stopwords to\n",
      "[nltk_data]     C:\\Users\\simbo\\AppData\\Roaming\\nltk_data...\n",
      "[nltk_data]   Package stopwords is already up-to-date!\n"
     ]
    }
   ],
   "source": [
    "import os\n",
    "import json\n",
    "import warnings\n",
    "import re\n",
    "import codecs\n",
    "import requests\n",
    "from tqdm import tqdm\n",
    "from bs4 import BeautifulSoup\n",
    "from multiprocessing import Pool\n",
    "from functools import reduce\n",
    "import numpy as np\n",
    "import pandas as pd\n",
    "import nltk\n",
    "nltk.download('stopwords')\n",
    "from nltk.corpus import stopwords\n",
    "from sklearn.utils import shuffle\n",
    "from sklearn.pipeline import Pipeline\n",
    "from sklearn.model_selection import RandomizedSearchCV, cross_val_score\n",
    "from sklearn.feature_extraction.text import TfidfTransformer, CountVectorizer, TfidfVectorizer\n",
    "from sklearn.svm import LinearSVC\n",
    "from sklearn.base import TransformerMixin\n",
    "import matplotlib.pyplot as plt\n",
    "import seaborn as sns\n",
    "warnings.filterwarnings('ignore')\n",
    "%matplotlib inline\n",
    "sns.set_style('whitegrid')\n",
    "sns.set_palette('Set2')"
   ],
   "metadata": {
    "collapsed": false
   }
  },
  {
   "cell_type": "code",
   "execution_count": 7,
   "outputs": [],
   "source": [
    "train = pd.read_csv('data/cutedwdntrain.csv',sep = ';', index_col='id')\n",
    "train = shuffle(train, random_state=42)"
   ],
   "metadata": {
    "collapsed": false
   }
  },
  {
   "cell_type": "code",
   "execution_count": 8,
   "outputs": [
    {
     "data": {
      "text/plain": "                                                    text  rating   length  \\\nid                                                                          \n16334  почти месяц наушник пока хорошо работать микро...       4   50-100   \n38246  писать огромный комментарий о тот какой они кр...       5  250-500   \n30901  при чем тут фирма вообще грязный хлипкий наушн...       1   50-100   \n71437  полный отстой правый наушник не проработать и ...       1     0-50   \n46508        прислать быстро но один наушник не работать       3     0-50   \n...                                                  ...     ...      ...   \n42881  прислать в срок упаковка на звук хороший есть ...       3  100-150   \n56629  наушник неплохой прислать хорошо упаковать вну...       4  100-150   \n41498   хороший наушник интересный дизайн и хороший звук       5     0-50   \n49620                       прислать наушник не работать       1     0-50   \n2059   ужасно через день использование левый наушник ...       1  250-500   \n\n       label  len  \nid                 \n16334   0.75   67  \n38246   1.00  402  \n30901   0.00   62  \n71437   0.00   50  \n46508   0.50   43  \n...      ...  ...  \n42881   0.50  133  \n56629   0.75  115  \n41498   1.00   48  \n49620   0.00   28  \n2059    0.00  305  \n\n[17445 rows x 5 columns]",
      "text/html": "<div>\n<style scoped>\n    .dataframe tbody tr th:only-of-type {\n        vertical-align: middle;\n    }\n\n    .dataframe tbody tr th {\n        vertical-align: top;\n    }\n\n    .dataframe thead th {\n        text-align: right;\n    }\n</style>\n<table border=\"1\" class=\"dataframe\">\n  <thead>\n    <tr style=\"text-align: right;\">\n      <th></th>\n      <th>text</th>\n      <th>rating</th>\n      <th>length</th>\n      <th>label</th>\n      <th>len</th>\n    </tr>\n    <tr>\n      <th>id</th>\n      <th></th>\n      <th></th>\n      <th></th>\n      <th></th>\n      <th></th>\n    </tr>\n  </thead>\n  <tbody>\n    <tr>\n      <th>16334</th>\n      <td>почти месяц наушник пока хорошо работать микро...</td>\n      <td>4</td>\n      <td>50-100</td>\n      <td>0.75</td>\n      <td>67</td>\n    </tr>\n    <tr>\n      <th>38246</th>\n      <td>писать огромный комментарий о тот какой они кр...</td>\n      <td>5</td>\n      <td>250-500</td>\n      <td>1.00</td>\n      <td>402</td>\n    </tr>\n    <tr>\n      <th>30901</th>\n      <td>при чем тут фирма вообще грязный хлипкий наушн...</td>\n      <td>1</td>\n      <td>50-100</td>\n      <td>0.00</td>\n      <td>62</td>\n    </tr>\n    <tr>\n      <th>71437</th>\n      <td>полный отстой правый наушник не проработать и ...</td>\n      <td>1</td>\n      <td>0-50</td>\n      <td>0.00</td>\n      <td>50</td>\n    </tr>\n    <tr>\n      <th>46508</th>\n      <td>прислать быстро но один наушник не работать</td>\n      <td>3</td>\n      <td>0-50</td>\n      <td>0.50</td>\n      <td>43</td>\n    </tr>\n    <tr>\n      <th>...</th>\n      <td>...</td>\n      <td>...</td>\n      <td>...</td>\n      <td>...</td>\n      <td>...</td>\n    </tr>\n    <tr>\n      <th>42881</th>\n      <td>прислать в срок упаковка на звук хороший есть ...</td>\n      <td>3</td>\n      <td>100-150</td>\n      <td>0.50</td>\n      <td>133</td>\n    </tr>\n    <tr>\n      <th>56629</th>\n      <td>наушник неплохой прислать хорошо упаковать вну...</td>\n      <td>4</td>\n      <td>100-150</td>\n      <td>0.75</td>\n      <td>115</td>\n    </tr>\n    <tr>\n      <th>41498</th>\n      <td>хороший наушник интересный дизайн и хороший звук</td>\n      <td>5</td>\n      <td>0-50</td>\n      <td>1.00</td>\n      <td>48</td>\n    </tr>\n    <tr>\n      <th>49620</th>\n      <td>прислать наушник не работать</td>\n      <td>1</td>\n      <td>0-50</td>\n      <td>0.00</td>\n      <td>28</td>\n    </tr>\n    <tr>\n      <th>2059</th>\n      <td>ужасно через день использование левый наушник ...</td>\n      <td>1</td>\n      <td>250-500</td>\n      <td>0.00</td>\n      <td>305</td>\n    </tr>\n  </tbody>\n</table>\n<p>17445 rows × 5 columns</p>\n</div>"
     },
     "execution_count": 8,
     "metadata": {},
     "output_type": "execute_result"
    }
   ],
   "source": [
    "train"
   ],
   "metadata": {
    "collapsed": false
   }
  },
  {
   "cell_type": "markdown",
   "source": [
    "## Разбиение данных и доп функции"
   ],
   "metadata": {
    "collapsed": false
   }
  },
  {
   "cell_type": "code",
   "execution_count": 9,
   "outputs": [],
   "source": [
    "X = train['text']\n",
    "y = train['label']"
   ],
   "metadata": {
    "collapsed": false
   }
  },
  {
   "cell_type": "code",
   "execution_count": 10,
   "outputs": [],
   "source": [
    "from sklearn.model_selection import train_test_split"
   ],
   "metadata": {
    "collapsed": false
   }
  },
  {
   "cell_type": "code",
   "execution_count": 11,
   "outputs": [],
   "source": [
    "train_X, test_X, train_y, test_y = train_test_split(X, y, train_size=0.8, random_state=42, stratify= y)"
   ],
   "metadata": {
    "collapsed": false
   }
  },
  {
   "cell_type": "code",
   "execution_count": 12,
   "outputs": [
    {
     "data": {
      "text/plain": "1.00    965\n0.00    964\n0.75    715\n0.50    480\n0.25    365\nName: label, dtype: int64"
     },
     "execution_count": 12,
     "metadata": {},
     "output_type": "execute_result"
    }
   ],
   "source": [
    "test_y.value_counts()"
   ],
   "metadata": {
    "collapsed": false
   }
  },
  {
   "cell_type": "code",
   "execution_count": 13,
   "outputs": [
    {
     "data": {
      "text/plain": "id\n7778     наушник прислать в срок но хватать зарядка мин...\n32506    хороший наушник звук классный пока не понимать...\n19958    прийти браковать товар шуметь наушник без музы...\n2678     наушник прислать в срок но хватать зарядка мин...\n33709    правый наушник не работать проверять сразу на ...\n                               ...                        \n18303    сегодня забрать товар всё подключиться звук хо...\n69625    качество звук ужасный очень глухо когда открыт...\n64394             звук качественный зарядка хватать на час\n28080    наушник классный вс работать но как палра банк...\n19749    брать уже в третий раз хватать на три месяц по...\nName: text, Length: 13956, dtype: object"
     },
     "execution_count": 13,
     "metadata": {},
     "output_type": "execute_result"
    }
   ],
   "source": [
    "train_X"
   ],
   "metadata": {
    "collapsed": false
   }
  },
  {
   "cell_type": "code",
   "execution_count": 14,
   "outputs": [
    {
     "data": {
      "text/plain": "['и',\n 'в',\n 'во',\n 'не',\n 'что',\n 'он',\n 'на',\n 'я',\n 'с',\n 'со',\n 'как',\n 'а',\n 'то',\n 'все',\n 'она',\n 'так',\n 'его',\n 'но',\n 'да',\n 'ты',\n 'к',\n 'у',\n 'же',\n 'вы',\n 'за',\n 'бы',\n 'по',\n 'только',\n 'ее',\n 'мне',\n 'было',\n 'вот',\n 'от',\n 'меня',\n 'еще',\n 'нет',\n 'о',\n 'из',\n 'ему',\n 'теперь',\n 'когда',\n 'даже',\n 'ну',\n 'вдруг',\n 'ли',\n 'если',\n 'уже',\n 'или',\n 'ни',\n 'быть',\n 'был',\n 'него',\n 'до',\n 'вас',\n 'нибудь',\n 'опять',\n 'уж',\n 'вам',\n 'ведь',\n 'там',\n 'потом',\n 'себя',\n 'ничего',\n 'ей',\n 'может',\n 'они',\n 'тут',\n 'где',\n 'есть',\n 'надо',\n 'ней',\n 'для',\n 'мы',\n 'тебя',\n 'их',\n 'чем',\n 'была',\n 'сам',\n 'чтоб',\n 'без',\n 'будто',\n 'чего',\n 'раз',\n 'тоже',\n 'себе',\n 'под',\n 'будет',\n 'ж',\n 'тогда',\n 'кто',\n 'этот',\n 'того',\n 'потому',\n 'этого',\n 'какой',\n 'совсем',\n 'ним',\n 'здесь',\n 'этом',\n 'один',\n 'почти',\n 'мой',\n 'тем',\n 'чтобы',\n 'нее',\n 'сейчас',\n 'были',\n 'куда',\n 'зачем',\n 'всех',\n 'никогда',\n 'можно',\n 'при',\n 'наконец',\n 'два',\n 'об',\n 'другой',\n 'хоть',\n 'после',\n 'над',\n 'больше',\n 'тот',\n 'через',\n 'эти',\n 'нас',\n 'про',\n 'всего',\n 'них',\n 'какая',\n 'много',\n 'разве',\n 'три',\n 'эту',\n 'моя',\n 'впрочем',\n 'хорошо',\n 'свою',\n 'этой',\n 'перед',\n 'иногда',\n 'лучше',\n 'чуть',\n 'том',\n 'нельзя',\n 'такой',\n 'им',\n 'более',\n 'всегда',\n 'конечно',\n 'всю',\n 'между']"
     },
     "execution_count": 14,
     "metadata": {},
     "output_type": "execute_result"
    }
   ],
   "source": [
    "stop_words = stopwords.words('russian')\n",
    "stop_words"
   ],
   "metadata": {
    "collapsed": false
   }
  },
  {
   "cell_type": "code",
   "execution_count": 15,
   "outputs": [],
   "source": [
    "def make_pipeline(vectorizer, transformer, classifier):\n",
    "    return Pipeline([\n",
    "            ('vectorizer', vectorizer),\n",
    "            ('transformer', transformer),\n",
    "            ('classifier', classifier)\n",
    "        ])"
   ],
   "metadata": {
    "collapsed": false
   }
  },
  {
   "cell_type": "code",
   "execution_count": 16,
   "outputs": [],
   "source": [
    "def make_estimator(classifier, params_grid, scorer, data, labels):\n",
    "    pipeline = make_pipeline(CountVectorizer(), TfidfTransformer(), classifier)\n",
    "    grid_cv = RandomizedSearchCV(pipeline, params_grid, scoring=scorer, cv=5, random_state=777, n_iter=100)\n",
    "    grid_cv.fit(data, labels)\n",
    "    return grid_cv"
   ],
   "metadata": {
    "collapsed": false
   }
  },
  {
   "cell_type": "code",
   "execution_count": 17,
   "outputs": [],
   "source": [
    "class DenseTransformer(TransformerMixin):\n",
    "    def transform(self, X, y=None, **fit_params):\n",
    "        return X.todense()\n",
    "\n",
    "    def fit_transform(self, X, y=None, **fit_params):\n",
    "        self.fit(X, y, **fit_params)\n",
    "        return self.transform(X)\n",
    "\n",
    "    def fit(self, X, y=None, **fit_params):\n",
    "        return self"
   ],
   "metadata": {
    "collapsed": false
   }
  },
  {
   "cell_type": "markdown",
   "source": [
    "# Моделирование по двум меткам 1 и 5"
   ],
   "metadata": {
    "collapsed": false
   }
  },
  {
   "cell_type": "code",
   "execution_count": 18,
   "outputs": [],
   "source": [
    "Xy = pd.merge(train_X,train_y,on = 'id')"
   ],
   "metadata": {
    "collapsed": false
   }
  },
  {
   "cell_type": "code",
   "execution_count": 19,
   "outputs": [],
   "source": [
    "Xytest = pd.merge(test_X,test_y,on = 'id')"
   ],
   "metadata": {
    "collapsed": false
   }
  },
  {
   "cell_type": "code",
   "execution_count": 20,
   "outputs": [],
   "source": [
    "train15 =  shuffle(pd.concat([Xy[Xy['label']==0],Xy[Xy['label']==1]]),random_state=42)\n",
    "train15['label'] = train15['label'].apply(lambda x: int(x))"
   ],
   "metadata": {
    "collapsed": false
   }
  },
  {
   "cell_type": "code",
   "execution_count": 21,
   "outputs": [],
   "source": [
    "test15 =  shuffle(pd.concat([Xytest[Xytest['label']==0],Xytest[Xytest['label']==1]]),random_state=42)\n",
    "test15['label'] = test15['label'].apply(lambda x: int(x))"
   ],
   "metadata": {
    "collapsed": false
   }
  },
  {
   "cell_type": "code",
   "execution_count": 22,
   "outputs": [
    {
     "data": {
      "text/plain": "             label\ncount  1929.000000\nmean      0.500259\nstd       0.500130\nmin       0.000000\n25%       0.000000\n50%       1.000000\n75%       1.000000\nmax       1.000000",
      "text/html": "<div>\n<style scoped>\n    .dataframe tbody tr th:only-of-type {\n        vertical-align: middle;\n    }\n\n    .dataframe tbody tr th {\n        vertical-align: top;\n    }\n\n    .dataframe thead th {\n        text-align: right;\n    }\n</style>\n<table border=\"1\" class=\"dataframe\">\n  <thead>\n    <tr style=\"text-align: right;\">\n      <th></th>\n      <th>label</th>\n    </tr>\n  </thead>\n  <tbody>\n    <tr>\n      <th>count</th>\n      <td>1929.000000</td>\n    </tr>\n    <tr>\n      <th>mean</th>\n      <td>0.500259</td>\n    </tr>\n    <tr>\n      <th>std</th>\n      <td>0.500130</td>\n    </tr>\n    <tr>\n      <th>min</th>\n      <td>0.000000</td>\n    </tr>\n    <tr>\n      <th>25%</th>\n      <td>0.000000</td>\n    </tr>\n    <tr>\n      <th>50%</th>\n      <td>1.000000</td>\n    </tr>\n    <tr>\n      <th>75%</th>\n      <td>1.000000</td>\n    </tr>\n    <tr>\n      <th>max</th>\n      <td>1.000000</td>\n    </tr>\n  </tbody>\n</table>\n</div>"
     },
     "execution_count": 22,
     "metadata": {},
     "output_type": "execute_result"
    }
   ],
   "source": [
    "test15.describe()"
   ],
   "metadata": {
    "collapsed": false
   }
  },
  {
   "cell_type": "code",
   "execution_count": 23,
   "outputs": [],
   "source": [
    "X15 = train15['text'].values\n",
    "y15 = train15['label'].values"
   ],
   "metadata": {
    "collapsed": false
   }
  },
  {
   "cell_type": "code",
   "execution_count": 24,
   "outputs": [],
   "source": [
    "X15test = test15['text'].values\n",
    "y15test = test15['label'].values"
   ],
   "metadata": {
    "collapsed": false
   }
  },
  {
   "cell_type": "markdown",
   "source": [
    "# Линейные модели"
   ],
   "metadata": {
    "collapsed": false
   }
  },
  {
   "cell_type": "code",
   "execution_count": 25,
   "outputs": [],
   "source": [
    "from sklearn.linear_model import LogisticRegression, SGDClassifier, RidgeClassifier"
   ],
   "metadata": {
    "collapsed": false
   }
  },
  {
   "cell_type": "code",
   "execution_count": 22,
   "outputs": [
    {
     "name": "stdout",
     "output_type": "stream",
     "text": [
      "LogisticRegression - 0.9551348166229985\n",
      "LinearSVC - 0.9665457910836185\n",
      "SGDClassifier - 0.9651192406525265\n",
      "RidgeClassifier - 0.9678430601192112\n",
      "CPU times: total: 3.75 s\n",
      "Wall time: 5.51 s\n"
     ]
    }
   ],
   "source": [
    "%%time\n",
    "for name, clf in {'LogisticRegression': LogisticRegression, 'LinearSVC': LinearSVC,\n",
    "               'SGDClassifier': SGDClassifier, 'RidgeClassifier': RidgeClassifier}.items():\n",
    "    score = cross_val_score(make_pipeline(CountVectorizer(), TfidfTransformer(), clf(random_state=777)), X15, y15, cv=5).mean()\n",
    "    print(f\"{name} - {score}\")"
   ],
   "metadata": {
    "collapsed": false
   }
  },
  {
   "cell_type": "code",
   "execution_count": 23,
   "outputs": [],
   "source": [
    "from sklearn.tree import DecisionTreeClassifier\n",
    "from sklearn.ensemble import RandomForestClassifier, BaggingClassifier, GradientBoostingClassifier"
   ],
   "metadata": {
    "collapsed": false
   }
  },
  {
   "cell_type": "markdown",
   "source": [
    "## Логистическая регрессия"
   ],
   "metadata": {
    "collapsed": false
   }
  },
  {
   "cell_type": "code",
   "execution_count": 42,
   "outputs": [],
   "source": [
    "vectorizer = CountVectorizer(min_df=10)\n",
    "XX = vectorizer.fit_transform(X15)"
   ],
   "metadata": {
    "collapsed": false
   }
  },
  {
   "cell_type": "code",
   "execution_count": 43,
   "outputs": [],
   "source": [
    "transformer = TfidfTransformer()\n",
    "Xlr = transformer.fit_transform(XX)"
   ],
   "metadata": {
    "collapsed": false
   }
  },
  {
   "cell_type": "code",
   "execution_count": 44,
   "outputs": [
    {
     "name": "stdout",
     "output_type": "stream",
     "text": [
      "CPU times: total: 78.1 ms\n",
      "Wall time: 87 ms\n"
     ]
    },
    {
     "data": {
      "text/plain": "LogisticRegression()",
      "text/html": "<style>#sk-container-id-1 {color: black;background-color: white;}#sk-container-id-1 pre{padding: 0;}#sk-container-id-1 div.sk-toggleable {background-color: white;}#sk-container-id-1 label.sk-toggleable__label {cursor: pointer;display: block;width: 100%;margin-bottom: 0;padding: 0.3em;box-sizing: border-box;text-align: center;}#sk-container-id-1 label.sk-toggleable__label-arrow:before {content: \"▸\";float: left;margin-right: 0.25em;color: #696969;}#sk-container-id-1 label.sk-toggleable__label-arrow:hover:before {color: black;}#sk-container-id-1 div.sk-estimator:hover label.sk-toggleable__label-arrow:before {color: black;}#sk-container-id-1 div.sk-toggleable__content {max-height: 0;max-width: 0;overflow: hidden;text-align: left;background-color: #f0f8ff;}#sk-container-id-1 div.sk-toggleable__content pre {margin: 0.2em;color: black;border-radius: 0.25em;background-color: #f0f8ff;}#sk-container-id-1 input.sk-toggleable__control:checked~div.sk-toggleable__content {max-height: 200px;max-width: 100%;overflow: auto;}#sk-container-id-1 input.sk-toggleable__control:checked~label.sk-toggleable__label-arrow:before {content: \"▾\";}#sk-container-id-1 div.sk-estimator input.sk-toggleable__control:checked~label.sk-toggleable__label {background-color: #d4ebff;}#sk-container-id-1 div.sk-label input.sk-toggleable__control:checked~label.sk-toggleable__label {background-color: #d4ebff;}#sk-container-id-1 input.sk-hidden--visually {border: 0;clip: rect(1px 1px 1px 1px);clip: rect(1px, 1px, 1px, 1px);height: 1px;margin: -1px;overflow: hidden;padding: 0;position: absolute;width: 1px;}#sk-container-id-1 div.sk-estimator {font-family: monospace;background-color: #f0f8ff;border: 1px dotted black;border-radius: 0.25em;box-sizing: border-box;margin-bottom: 0.5em;}#sk-container-id-1 div.sk-estimator:hover {background-color: #d4ebff;}#sk-container-id-1 div.sk-parallel-item::after {content: \"\";width: 100%;border-bottom: 1px solid gray;flex-grow: 1;}#sk-container-id-1 div.sk-label:hover label.sk-toggleable__label {background-color: #d4ebff;}#sk-container-id-1 div.sk-serial::before {content: \"\";position: absolute;border-left: 1px solid gray;box-sizing: border-box;top: 0;bottom: 0;left: 50%;z-index: 0;}#sk-container-id-1 div.sk-serial {display: flex;flex-direction: column;align-items: center;background-color: white;padding-right: 0.2em;padding-left: 0.2em;position: relative;}#sk-container-id-1 div.sk-item {position: relative;z-index: 1;}#sk-container-id-1 div.sk-parallel {display: flex;align-items: stretch;justify-content: center;background-color: white;position: relative;}#sk-container-id-1 div.sk-item::before, #sk-container-id-1 div.sk-parallel-item::before {content: \"\";position: absolute;border-left: 1px solid gray;box-sizing: border-box;top: 0;bottom: 0;left: 50%;z-index: -1;}#sk-container-id-1 div.sk-parallel-item {display: flex;flex-direction: column;z-index: 1;position: relative;background-color: white;}#sk-container-id-1 div.sk-parallel-item:first-child::after {align-self: flex-end;width: 50%;}#sk-container-id-1 div.sk-parallel-item:last-child::after {align-self: flex-start;width: 50%;}#sk-container-id-1 div.sk-parallel-item:only-child::after {width: 0;}#sk-container-id-1 div.sk-dashed-wrapped {border: 1px dashed gray;margin: 0 0.4em 0.5em 0.4em;box-sizing: border-box;padding-bottom: 0.4em;background-color: white;}#sk-container-id-1 div.sk-label label {font-family: monospace;font-weight: bold;display: inline-block;line-height: 1.2em;}#sk-container-id-1 div.sk-label-container {text-align: center;}#sk-container-id-1 div.sk-container {/* jupyter's `normalize.less` sets `[hidden] { display: none; }` but bootstrap.min.css set `[hidden] { display: none !important; }` so we also need the `!important` here to be able to override the default hidden behavior on the sphinx rendered scikit-learn.org. See: https://github.com/scikit-learn/scikit-learn/issues/21755 */display: inline-block !important;position: relative;}#sk-container-id-1 div.sk-text-repr-fallback {display: none;}</style><div id=\"sk-container-id-1\" class=\"sk-top-container\"><div class=\"sk-text-repr-fallback\"><pre>LogisticRegression()</pre><b>In a Jupyter environment, please rerun this cell to show the HTML representation or trust the notebook. <br />On GitHub, the HTML representation is unable to render, please try loading this page with nbviewer.org.</b></div><div class=\"sk-container\" hidden><div class=\"sk-item\"><div class=\"sk-estimator sk-toggleable\"><input class=\"sk-toggleable__control sk-hidden--visually\" id=\"sk-estimator-id-1\" type=\"checkbox\" checked><label for=\"sk-estimator-id-1\" class=\"sk-toggleable__label sk-toggleable__label-arrow\">LogisticRegression</label><div class=\"sk-toggleable__content\"><pre>LogisticRegression()</pre></div></div></div></div></div>"
     },
     "execution_count": 44,
     "metadata": {},
     "output_type": "execute_result"
    }
   ],
   "source": [
    "%%time\n",
    "log_reg = LogisticRegression()\n",
    "log_reg.fit(Xlr, y15)"
   ],
   "metadata": {
    "collapsed": false
   }
  },
  {
   "cell_type": "code",
   "execution_count": 46,
   "outputs": [
    {
     "data": {
      "text/plain": "['отличный',\n 'хороший',\n 'спасибо',\n 'довольный',\n 'всё',\n 'отлично',\n 'хорошо',\n 'супер',\n 'понравиться',\n 'классный',\n 'чистый',\n 'нравиться',\n 'цена',\n 'восторг',\n 'целый',\n 'быстро',\n 'рекомендовать',\n 'удобный',\n 'свой',\n 'пока',\n 'проблема',\n 'пожалеть',\n 'качественный',\n 'удобно',\n 'топ',\n 'огонь',\n 'немного',\n 'для',\n 'крутой',\n 'прекрасный']"
     },
     "execution_count": 46,
     "metadata": {},
     "output_type": "execute_result"
    }
   ],
   "source": [
    "coeffs = log_reg.coef_[0]\n",
    "worsestwords = [vectorizer.get_feature_names()[list(coeffs).index(i)] for i in sorted(coeffs,reverse=True)[:30]]\n",
    "worsestwords"
   ],
   "metadata": {
    "collapsed": false
   }
  },
  {
   "cell_type": "code",
   "execution_count": 26,
   "outputs": [
    {
     "data": {
      "text/plain": "0.9595645412130638"
     },
     "execution_count": 26,
     "metadata": {},
     "output_type": "execute_result"
    }
   ],
   "source": [
    "log_reg.score(transformer.transform(vectorizer.transform(X15test)),y15test)"
   ],
   "metadata": {
    "collapsed": false
   }
  },
  {
   "cell_type": "markdown",
   "source": [
    "## Настройка параметров линейных моделей"
   ],
   "metadata": {
    "collapsed": false
   }
  },
  {
   "cell_type": "code",
   "execution_count": 30,
   "outputs": [],
   "source": [
    "params_grid_vectorizer = {\n",
    "    'vectorizer__max_df' : [0.85, 0.9, 0.95, 1.0],\n",
    "    'vectorizer__min_df' : [1, 10, 20],\n",
    "    'vectorizer__ngram_range' : [(1, 1), (1, 2), (1, 3), (1, 4), (1, 5), (1, 6)],\n",
    "    'vectorizer__stop_words' : [stop_words, None, 'russian']\n",
    "}"
   ],
   "metadata": {
    "collapsed": false
   }
  },
  {
   "cell_type": "code",
   "execution_count": 31,
   "outputs": [],
   "source": [
    "params_grid_lr = {\n",
    "    'classifier__C': np.arange(0.1, 2, 0.1),\n",
    "    'classifier__max_iter': np.arange(50, 500, 50),\n",
    "    'classifier__solver': ['lbfgs', 'liblinear', 'sag']\n",
    "}\n",
    "params_grid_lsvc = {\n",
    "    'classifier__loss': ['hinge', 'squared_hinge'],\n",
    "    'classifier__max_iter': np.arange(100, 1000, 50),\n",
    "    'classifier__tol': [1e-5, 1e-4, 1e-3],\n",
    "    'classifier__C': np.arange(0.1, 2, 0.1)\n",
    "}\n",
    "params_grid_sgdc = {\n",
    "    'classifier__loss': ['log', 'hinge', 'modified_huber'],\n",
    "    'classifier__penalty':  ['l1', 'l2', 'elasticnet'],\n",
    "    'classifier__max_iter': np.arange(100, 1000, 50),\n",
    "    'classifier__tol': np.arange(1e-5, 1e-3, 1e-5)\n",
    "}\n",
    "params_grid_rc = {\n",
    "    'classifier__alpha': np.arange(0.1, 5, 0.1),\n",
    "    'classifier__normalize': [True, False],\n",
    "    'classifier__tol': np.arange(1e-4, 1e-2, 1e-4),\n",
    "    'classifier__solver': ['auto', 'svd', 'cholesky', 'lsqr', 'sparse_cg', 'sag']\n",
    "}"
   ],
   "metadata": {
    "collapsed": false
   }
  },
  {
   "cell_type": "code",
   "execution_count": 32,
   "outputs": [
    {
     "name": "stdout",
     "output_type": "stream",
     "text": [
      "LogisticRegression:\n",
      "Лучшее качество - 0.9684914004335718\n",
      "Параметры - {'vectorizer__stop_words': None, 'vectorizer__ngram_range': (1, 2), 'vectorizer__min_df': 1, 'vectorizer__max_df': 1.0, 'classifier__solver': 'liblinear', 'classifier__max_iter': 50, 'classifier__C': 1.9000000000000001}\n",
      "CPU times: total: 5min 55s\n",
      "Wall time: 6min 22s\n"
     ]
    }
   ],
   "source": [
    "%%time\n",
    "grid_search_lr = make_estimator(LogisticRegression(random_state = 42),\n",
    "                                {**params_grid_vectorizer, **params_grid_lr}, 'accuracy', X15, y15)\n",
    "print(\"LogisticRegression:\")\n",
    "print(f\"Лучшее качество - {grid_search_lr.best_score_}\")\n",
    "print(f\"Параметры - {grid_search_lr.best_params_}\")"
   ],
   "metadata": {
    "collapsed": false
   }
  },
  {
   "cell_type": "code",
   "execution_count": 33,
   "outputs": [
    {
     "name": "stdout",
     "output_type": "stream",
     "text": [
      "LinearSVC:\n",
      "Лучшее качество - 0.9748451018910556\n",
      "Параметры - {'vectorizer__stop_words': None, 'vectorizer__ngram_range': (1, 2), 'vectorizer__min_df': 1, 'vectorizer__max_df': 0.95, 'classifier__tol': 0.0001, 'classifier__max_iter': 550, 'classifier__loss': 'squared_hinge', 'classifier__C': 1.2000000000000002}\n",
      "CPU times: total: 3min 32s\n",
      "Wall time: 3min 36s\n"
     ]
    }
   ],
   "source": [
    "\n",
    "%%time\n",
    "grid_search_lsvc = make_estimator(LinearSVC(random_state=777),\n",
    "                                  {**params_grid_vectorizer, **params_grid_lsvc}, 'accuracy', X15, y15)\n",
    "print(\"LinearSVC:\")\n",
    "print(f\"Лучшее качество - {grid_search_lsvc.best_score_}\")\n",
    "print(f\"Параметры - {grid_search_lsvc.best_params_}\")"
   ],
   "metadata": {
    "collapsed": false
   }
  },
  {
   "cell_type": "code",
   "execution_count": 31,
   "outputs": [
    {
     "name": "stdout",
     "output_type": "stream",
     "text": [
      "SGDClassifier:\n",
      "Лучшее качество - 0.974196425344197\n",
      "Параметры - {'vectorizer__stop_words': None, 'vectorizer__ngram_range': (1, 2), 'vectorizer__min_df': 1, 'vectorizer__max_df': 0.85, 'classifier__tol': 0.0003400000000000001, 'classifier__penalty': 'l2', 'classifier__max_iter': 200, 'classifier__loss': 'hinge'}\n",
      "CPU times: total: 3min 38s\n",
      "Wall time: 3min 48s\n"
     ]
    }
   ],
   "source": [
    "%%time\n",
    "grid_search_sgdc = make_estimator(SGDClassifier(random_state=777),\n",
    "                                  {**params_grid_vectorizer, **params_grid_sgdc}, 'accuracy', X15, y15)\n",
    "print(\"SGDClassifier:\")\n",
    "print(f\"Лучшее качество - {grid_search_sgdc.best_score_}\")\n",
    "print(f\"Параметры - {grid_search_sgdc.best_params_}\")"
   ],
   "metadata": {
    "collapsed": false
   }
  },
  {
   "cell_type": "code",
   "execution_count": 32,
   "outputs": [
    {
     "name": "stdout",
     "output_type": "stream",
     "text": [
      "RidgeClassifier:\n",
      "Лучшее качество - 0.9721222070637404\n",
      "Параметры - {'vectorizer__stop_words': None, 'vectorizer__ngram_range': (1, 4), 'vectorizer__min_df': 1, 'vectorizer__max_df': 0.95, 'classifier__tol': 0.0015, 'classifier__solver': 'lsqr', 'classifier__normalize': False, 'classifier__alpha': 0.4}\n",
      "CPU times: total: 3min 33s\n",
      "Wall time: 3min 42s\n"
     ]
    }
   ],
   "source": [
    "%%time\n",
    "grid_search_rc = make_estimator(RidgeClassifier(random_state=777),\n",
    "                                {**params_grid_vectorizer, **params_grid_rc}, 'accuracy', X15, y15)\n",
    "print(\"RidgeClassifier:\")\n",
    "print(f\"Лучшее качество - {grid_search_rc.best_score_}\")\n",
    "print(f\"Параметры - {grid_search_rc.best_params_}\")"
   ],
   "metadata": {
    "collapsed": false
   }
  },
  {
   "cell_type": "code",
   "execution_count": 33,
   "outputs": [
    {
     "name": "stdout",
     "output_type": "stream",
     "text": [
      "Лучшая линейная модель - LinearSVC\n",
      "Лучшее качество - 0.9748451018910556\n",
      "Параметры - {'vectorizer__stop_words': None, 'vectorizer__ngram_range': (1, 2), 'vectorizer__min_df': 1, 'vectorizer__max_df': 0.95, 'classifier__tol': 0.0001, 'classifier__max_iter': 550, 'classifier__loss': 'squared_hinge', 'classifier__C': 1.2000000000000002}\n"
     ]
    }
   ],
   "source": [
    "results_linear = {'LogisticRegression': (grid_search_lr.best_score_, grid_search_lr.best_params_),\n",
    "                  'LinearSVC': (grid_search_lsvc.best_score_, grid_search_lsvc.best_params_),\n",
    "                  'SGDClassifier': (grid_search_sgdc.best_score_, grid_search_sgdc.best_params_),\n",
    "                  'RidgeClassifier': (grid_search_rc.best_score_, grid_search_rc.best_params_)}\n",
    "print(f\"Лучшая линейная модель - {max(results_linear, key=results_linear.get)}\")\n",
    "print(f\"Лучшее качество - {max(results_linear.values())[0]}\")\n",
    "print(f\"Параметры - {max(results_linear.values())[1]}\")"
   ],
   "metadata": {
    "collapsed": false
   }
  },
  {
   "cell_type": "markdown",
   "source": [
    "# Решающие деревья"
   ],
   "metadata": {
    "collapsed": false
   }
  },
  {
   "cell_type": "code",
   "execution_count": 34,
   "outputs": [
    {
     "name": "stdout",
     "output_type": "stream",
     "text": [
      "DecisionTreeClassifier - 0.9109183938509802\n",
      "RandomForestClassifier - 0.9614888543129803\n",
      "BaggingClassifier - 0.9343886830865807\n",
      "GradientBoostingClassifier - 0.9238860407194366\n",
      "CPU times: total: 1min 34s\n",
      "Wall time: 2min 3s\n"
     ]
    }
   ],
   "source": [
    "%%time\n",
    "for name, clf in {'DecisionTreeClassifier': DecisionTreeClassifier, 'RandomForestClassifier': RandomForestClassifier,\n",
    "               'BaggingClassifier': BaggingClassifier, 'GradientBoostingClassifier': GradientBoostingClassifier}.items():\n",
    "    score = cross_val_score(make_pipeline(CountVectorizer(), TfidfTransformer(), clf(random_state=777)), X15, y15, cv=5).mean()\n",
    "    print(f\"{name} - {score}\")"
   ],
   "metadata": {
    "collapsed": false
   }
  },
  {
   "cell_type": "code",
   "execution_count": 36,
   "outputs": [],
   "source": [
    "params_grid_dtc = {\n",
    "    'classifier__max_depth': np.arange(1, 30, 1),\n",
    "    'classifier__min_samples_split': np.arange(2, 6, 1),\n",
    "    'classifier__min_samples_leaf': [1, 2, 3],\n",
    "    'classifier__min_impurity_decrease': np.logspace(-10, -6, 5)\n",
    "}\n",
    "params_grid_rfc = {\n",
    "    'classifier__n_estimators': np.arange(1, 30, 1),\n",
    "    'classifier__max_depth': [None] + list(np.arange(1, 30, 1)),\n",
    "    'classifier__min_samples_split': np.arange(2, 6, 1),\n",
    "    'classifier__min_samples_leaf': [1, 2, 3],\n",
    "    'classifier__max_features': ['auto', 'sqrt', 'log2'],\n",
    "    'classifier__min_impurity_decrease': np.logspace(-10, -6, 5)\n",
    "}\n",
    "params_grid_bc = {\n",
    "    'classifier__n_estimators': np.arange(10, 1000, 10),\n",
    "    'classifier__warm_start': [False, True],\n",
    "    'classifier__bootstrap_features': [False, True]\n",
    "}\n",
    "params_grid_gbc = {\n",
    "    'classifier__n_estimators': np.arange(10, 1000, 10),\n",
    "    'classifier__max_depth': [None] + list(np.arange(1, 30, 1)),\n",
    "    'classifier__min_samples_split': np.arange(2, 6, 1),\n",
    "    'classifier__max_features': ['auto', 'sqrt', 'log2'],\n",
    "    'classifier__subsample': np.arange(0.6, 1, 0.1)\n",
    "}"
   ],
   "metadata": {
    "collapsed": false
   }
  },
  {
   "cell_type": "code",
   "execution_count": 41,
   "outputs": [
    {
     "name": "stdout",
     "output_type": "stream",
     "text": [
      "DecisionTreeClassifier:\n",
      "Лучшее качество - 0.9068973053487024\n",
      "Параметры - {'vectorizer__stop_words': None, 'vectorizer__ngram_range': (1, 3), 'vectorizer__min_df': 20, 'vectorizer__max_df': 1.0, 'classifier__min_samples_split': 3, 'classifier__min_samples_leaf': 3, 'classifier__min_impurity_decrease': 1e-08, 'classifier__max_depth': 29}\n",
      "CPU times: total: 10min 1s\n",
      "Wall time: 11min\n"
     ]
    }
   ],
   "source": [
    "%%time\n",
    "grid_search_dtc = make_estimator(DecisionTreeClassifier(random_state=777),\n",
    "                                {**params_grid_vectorizer, **params_grid_dtc}, 'accuracy', X15, y15)\n",
    "print(\"DecisionTreeClassifier:\")\n",
    "print(f\"Лучшее качество - {grid_search_dtc.best_score_}\")\n",
    "print(f\"Параметры - {grid_search_dtc.best_params_}\")"
   ],
   "metadata": {
    "collapsed": false
   }
  },
  {
   "cell_type": "code",
   "execution_count": 47,
   "outputs": [
    {
     "name": "stdout",
     "output_type": "stream",
     "text": [
      "RandomForestClassifier:\n",
      "Лучшее качество - 0.948392850688394\n",
      "Параметры - {'vectorizer__stop_words': None, 'vectorizer__ngram_range': (1, 2), 'vectorizer__min_df': 10, 'vectorizer__max_df': 1.0, 'classifier__n_estimators': 28, 'classifier__min_samples_split': 3, 'classifier__min_samples_leaf': 1, 'classifier__min_impurity_decrease': 1e-08, 'classifier__max_features': 'auto', 'classifier__max_depth': 28}\n",
      "CPU times: total: 5min 25s\n",
      "Wall time: 5min 37s\n"
     ]
    }
   ],
   "source": [
    "%%time\n",
    "grid_search_rfc = make_estimator(RandomForestClassifier(random_state=777),\n",
    "                                {**params_grid_vectorizer, **params_grid_rfc}, 'accuracy', X15, y15)\n",
    "print(\"RandomForestClassifier:\")\n",
    "print(f\"Лучшее качество - {grid_search_rfc.best_score_}\")\n",
    "print(f\"Параметры - {grid_search_rfc.best_params_}\")"
   ],
   "metadata": {
    "collapsed": false
   }
  },
  {
   "cell_type": "code",
   "execution_count": 22,
   "outputs": [
    {
     "ename": "NameError",
     "evalue": "name 'grid_search_dtc' is not defined",
     "output_type": "error",
     "traceback": [
      "\u001B[1;31m---------------------------------------------------------------------------\u001B[0m",
      "\u001B[1;31mNameError\u001B[0m                                 Traceback (most recent call last)",
      "Cell \u001B[1;32mIn [22], line 1\u001B[0m\n\u001B[1;32m----> 1\u001B[0m results_tree \u001B[38;5;241m=\u001B[39m {\u001B[38;5;124m'\u001B[39m\u001B[38;5;124mDecisionTreeClassifier\u001B[39m\u001B[38;5;124m'\u001B[39m: (\u001B[43mgrid_search_dtc\u001B[49m\u001B[38;5;241m.\u001B[39mbest_score_, grid_search_dtc\u001B[38;5;241m.\u001B[39mbest_params_),\n\u001B[0;32m      2\u001B[0m                 \u001B[38;5;124m'\u001B[39m\u001B[38;5;124mRandomForestClassifier\u001B[39m\u001B[38;5;124m'\u001B[39m: (grid_search_rfc\u001B[38;5;241m.\u001B[39mbest_score_, grid_search_rfc\u001B[38;5;241m.\u001B[39mbest_params_)}\n\u001B[0;32m      3\u001B[0m \u001B[38;5;28mprint\u001B[39m(\u001B[38;5;124mf\u001B[39m\u001B[38;5;124m\"\u001B[39m\u001B[38;5;124mЛучшая модель решающих деревьев - \u001B[39m\u001B[38;5;132;01m{\u001B[39;00m\u001B[38;5;28mmax\u001B[39m(results_tree, key\u001B[38;5;241m=\u001B[39mresults_tree\u001B[38;5;241m.\u001B[39mget)\u001B[38;5;132;01m}\u001B[39;00m\u001B[38;5;124m\"\u001B[39m)\n\u001B[0;32m      4\u001B[0m \u001B[38;5;28mprint\u001B[39m(\u001B[38;5;124mf\u001B[39m\u001B[38;5;124m\"\u001B[39m\u001B[38;5;124mЛучшее качество - \u001B[39m\u001B[38;5;132;01m{\u001B[39;00m\u001B[38;5;28mmax\u001B[39m(results_tree\u001B[38;5;241m.\u001B[39mvalues())[\u001B[38;5;241m0\u001B[39m]\u001B[38;5;132;01m}\u001B[39;00m\u001B[38;5;124m\"\u001B[39m)\n",
      "\u001B[1;31mNameError\u001B[0m: name 'grid_search_dtc' is not defined"
     ]
    }
   ],
   "source": [
    "results_tree = {'DecisionTreeClassifier': (grid_search_dtc.best_score_, grid_search_dtc.best_params_),\n",
    "                'RandomForestClassifier': (grid_search_rfc.best_score_, grid_search_rfc.best_params_)}\n",
    "print(f\"Лучшая модель решающих деревьев - {max(results_tree, key=results_tree.get)}\")\n",
    "print(f\"Лучшее качество - {max(results_tree.values())[0]}\")\n",
    "print(f\"Параметры - {max(results_tree.values())[1]}\")"
   ],
   "metadata": {
    "collapsed": false
   }
  },
  {
   "cell_type": "markdown",
   "source": [
    "## Наивный Байес\n"
   ],
   "metadata": {
    "collapsed": false
   }
  },
  {
   "cell_type": "code",
   "execution_count": 23,
   "outputs": [],
   "source": [
    "from sklearn.naive_bayes import MultinomialNB, BernoulliNB, GaussianNB"
   ],
   "metadata": {
    "collapsed": false
   }
  },
  {
   "cell_type": "code",
   "execution_count": 24,
   "outputs": [
    {
     "name": "stdout",
     "output_type": "stream",
     "text": [
      "MultinomialNB - 0.9509855394808403\n",
      "BernoulliNB - 0.9561736069257171\n",
      "GaussianNB - 0.8603414609133925\n",
      "CPU times: total: 10.4 s\n",
      "Wall time: 13.6 s\n"
     ]
    }
   ],
   "source": [
    "%%time\n",
    "for name, clf in {'MultinomialNB': MultinomialNB, 'BernoulliNB': BernoulliNB,\n",
    "               'GaussianNB': GaussianNB}.items():\n",
    "    if name == 'GaussianNB':\n",
    "        score = cross_val_score(Pipeline([('vectorizer', CountVectorizer()), ('transformer', TfidfTransformer()),\n",
    "                                  ('dense', DenseTransformer()), ('classifier', GaussianNB())]), X15, y15, cv=5).mean()\n",
    "    else:\n",
    "        score = cross_val_score(make_pipeline(CountVectorizer(), TfidfTransformer(), clf()), X15, y15, cv=5).mean()\n",
    "    print(f\"{name} - {score}\")"
   ],
   "metadata": {
    "collapsed": false
   }
  },
  {
   "cell_type": "code",
   "execution_count": 28,
   "outputs": [],
   "source": [
    "params_grid_mnb = {\n",
    "    'classifier__alpha': np.logspace(0, 5, 100),\n",
    "    'classifier__fit_prior': [True, False]\n",
    "}\n",
    "params_grid_bnb = {\n",
    "    'classifier__alpha': np.logspace(0, 5, 100),\n",
    "    'classifier__fit_prior': [True, False]\n",
    "}\n"
   ],
   "metadata": {
    "collapsed": false
   }
  },
  {
   "cell_type": "code",
   "execution_count": 27,
   "outputs": [
    {
     "ename": "NameError",
     "evalue": "name 'params_grid_vectorizer' is not defined",
     "output_type": "error",
     "traceback": [
      "\u001B[1;31m---------------------------------------------------------------------------\u001B[0m",
      "\u001B[1;31mNameError\u001B[0m                                 Traceback (most recent call last)",
      "File \u001B[1;32m<timed exec>:2\u001B[0m\n",
      "\u001B[1;31mNameError\u001B[0m: name 'params_grid_vectorizer' is not defined"
     ]
    }
   ],
   "source": [
    "%%time\n",
    "grid_search_mnb = make_estimator(MultinomialNB(),\n",
    "                                {**params_grid_vectorizer, **params_grid_mnb}, 'accuracy', X15, y15)\n",
    "print(\"MultinomialNB:\")\n",
    "print(f\"Лучшее качество - {grid_search_mnb.best_score_}\")\n",
    "print(f\"Параметры - {grid_search_mnb.best_params_}\")\n"
   ],
   "metadata": {
    "collapsed": false
   }
  },
  {
   "cell_type": "code",
   "execution_count": 51,
   "outputs": [
    {
     "name": "stdout",
     "output_type": "stream",
     "text": [
      "BernoulliNB:\n",
      "Лучшее качество - 0.9617490982664693\n",
      "Параметры - {'vectorizer__stop_words': None, 'vectorizer__ngram_range': (1, 2), 'vectorizer__min_df': 10, 'vectorizer__max_df': 0.9, 'classifier__fit_prior': False, 'classifier__alpha': 1.0}\n",
      "CPU times: total: 3min 59s\n",
      "Wall time: 4min 4s\n"
     ]
    }
   ],
   "source": [
    "%%time\n",
    "grid_search_bnb = make_estimator(BernoulliNB(),\n",
    "                                {**params_grid_vectorizer, **params_grid_bnb}, 'accuracy', X15, y15)\n",
    "print(\"BernoulliNB:\")\n",
    "print(f\"Лучшее качество - {grid_search_bnb.best_score_}\")\n",
    "print(f\"Параметры - {grid_search_bnb.best_params_}\")"
   ],
   "metadata": {
    "collapsed": false
   }
  },
  {
   "cell_type": "code",
   "execution_count": 52,
   "outputs": [
    {
     "name": "stdout",
     "output_type": "stream",
     "text": [
      "Лучшая байесовская модель - BernoulliNB\n",
      "Лучшее качество - 0.9617490982664693\n",
      "Параметры - {'vectorizer__stop_words': None, 'vectorizer__ngram_range': (1, 2), 'vectorizer__min_df': 10, 'vectorizer__max_df': 0.9, 'classifier__fit_prior': False, 'classifier__alpha': 1.0}\n"
     ]
    }
   ],
   "source": [
    "results_bayes = {'MultinomialNB': (grid_search_mnb.best_score_, grid_search_mnb.best_params_),\n",
    "                 'BernoulliNB': (grid_search_bnb.best_score_, grid_search_bnb.best_params_)}\n",
    "print(f\"Лучшая байесовская модель - {max(results_bayes, key=results_bayes.get)}\")\n",
    "print(f\"Лучшее качество - {max(results_bayes.values())[0]}\")\n",
    "print(f\"Параметры - {max(results_bayes.values())[1]}\")"
   ],
   "metadata": {
    "collapsed": false
   }
  },
  {
   "cell_type": "markdown",
   "source": [
    "## Лучшая модель"
   ],
   "metadata": {
    "collapsed": false
   }
  },
  {
   "cell_type": "code",
   "execution_count": 32,
   "outputs": [
    {
     "data": {
      "text/plain": "                                                    text  rating   length  \\\nid                                                                          \n16334  почти месяц наушник пока хорошо работать микро...       4   50-100   \n38246  писать огромный комментарий о тот какой они кр...       5  250-500   \n30901  при чем тут фирма вообще грязный хлипкий наушн...       1   50-100   \n71437  полный отстой правый наушник не проработать и ...       1     0-50   \n46508        прислать быстро но один наушник не работать       3     0-50   \n...                                                  ...     ...      ...   \n42881  прислать в срок упаковка на звук хороший есть ...       3  100-150   \n56629  наушник неплохой прислать хорошо упаковать вну...       4  100-150   \n41498   хороший наушник интересный дизайн и хороший звук       5     0-50   \n49620                       прислать наушник не работать       1     0-50   \n2059   ужасно через день использование левый наушник ...       1  250-500   \n\n       label  len  \nid                 \n16334   0.75   67  \n38246   1.00  402  \n30901   0.00   62  \n71437   0.00   50  \n46508   0.50   43  \n...      ...  ...  \n42881   0.50  133  \n56629   0.75  115  \n41498   1.00   48  \n49620   0.00   28  \n2059    0.00  305  \n\n[17445 rows x 5 columns]",
      "text/html": "<div>\n<style scoped>\n    .dataframe tbody tr th:only-of-type {\n        vertical-align: middle;\n    }\n\n    .dataframe tbody tr th {\n        vertical-align: top;\n    }\n\n    .dataframe thead th {\n        text-align: right;\n    }\n</style>\n<table border=\"1\" class=\"dataframe\">\n  <thead>\n    <tr style=\"text-align: right;\">\n      <th></th>\n      <th>text</th>\n      <th>rating</th>\n      <th>length</th>\n      <th>label</th>\n      <th>len</th>\n    </tr>\n    <tr>\n      <th>id</th>\n      <th></th>\n      <th></th>\n      <th></th>\n      <th></th>\n      <th></th>\n    </tr>\n  </thead>\n  <tbody>\n    <tr>\n      <th>16334</th>\n      <td>почти месяц наушник пока хорошо работать микро...</td>\n      <td>4</td>\n      <td>50-100</td>\n      <td>0.75</td>\n      <td>67</td>\n    </tr>\n    <tr>\n      <th>38246</th>\n      <td>писать огромный комментарий о тот какой они кр...</td>\n      <td>5</td>\n      <td>250-500</td>\n      <td>1.00</td>\n      <td>402</td>\n    </tr>\n    <tr>\n      <th>30901</th>\n      <td>при чем тут фирма вообще грязный хлипкий наушн...</td>\n      <td>1</td>\n      <td>50-100</td>\n      <td>0.00</td>\n      <td>62</td>\n    </tr>\n    <tr>\n      <th>71437</th>\n      <td>полный отстой правый наушник не проработать и ...</td>\n      <td>1</td>\n      <td>0-50</td>\n      <td>0.00</td>\n      <td>50</td>\n    </tr>\n    <tr>\n      <th>46508</th>\n      <td>прислать быстро но один наушник не работать</td>\n      <td>3</td>\n      <td>0-50</td>\n      <td>0.50</td>\n      <td>43</td>\n    </tr>\n    <tr>\n      <th>...</th>\n      <td>...</td>\n      <td>...</td>\n      <td>...</td>\n      <td>...</td>\n      <td>...</td>\n    </tr>\n    <tr>\n      <th>42881</th>\n      <td>прислать в срок упаковка на звук хороший есть ...</td>\n      <td>3</td>\n      <td>100-150</td>\n      <td>0.50</td>\n      <td>133</td>\n    </tr>\n    <tr>\n      <th>56629</th>\n      <td>наушник неплохой прислать хорошо упаковать вну...</td>\n      <td>4</td>\n      <td>100-150</td>\n      <td>0.75</td>\n      <td>115</td>\n    </tr>\n    <tr>\n      <th>41498</th>\n      <td>хороший наушник интересный дизайн и хороший звук</td>\n      <td>5</td>\n      <td>0-50</td>\n      <td>1.00</td>\n      <td>48</td>\n    </tr>\n    <tr>\n      <th>49620</th>\n      <td>прислать наушник не работать</td>\n      <td>1</td>\n      <td>0-50</td>\n      <td>0.00</td>\n      <td>28</td>\n    </tr>\n    <tr>\n      <th>2059</th>\n      <td>ужасно через день использование левый наушник ...</td>\n      <td>1</td>\n      <td>250-500</td>\n      <td>0.00</td>\n      <td>305</td>\n    </tr>\n  </tbody>\n</table>\n<p>17445 rows × 5 columns</p>\n</div>"
     },
     "execution_count": 32,
     "metadata": {},
     "output_type": "execute_result"
    }
   ],
   "source": [
    "train"
   ],
   "metadata": {
    "collapsed": false
   }
  },
  {
   "cell_type": "code",
   "execution_count": 37,
   "outputs": [],
   "source": [
    "trainb =  shuffle(pd.concat([train[train['label']==0],train[train['label']==1]]),random_state=42)\n",
    "trainb['label'] = trainb['label'].apply(lambda x: int(x))"
   ],
   "metadata": {
    "collapsed": false
   }
  },
  {
   "cell_type": "code",
   "execution_count": 38,
   "outputs": [
    {
     "data": {
      "text/plain": "                                                    text  rating   length  \\\nid                                                                          \n45164  наушник огонь звук отличный микрофон тоже хороший       5     0-50   \n32084  прислать б у всё распаковать в скотч и прислат...       1   50-100   \n67784                                        не работать       1     0-50   \n53797  здравствуйте прислать наушник но кейс вовсе не...       1  150-250   \n8325   всё очень понравиться прийти в полностью запеч...       5  150-250   \n...                                                  ...     ...      ...   \n69735  прислать в целость звук качественный рекомендо...       5     0-50   \n68683   понравиться абсолютно всё недостаток не заметить       5     0-50   \n56570  хороший наушник свой деньга стоять однозначно ...       5   50-100   \n17646                           сломаться через три день       1     0-50   \n968    я в восторг наушник прислать зарядить и прораб...       5  150-250   \n\n       label  len  \nid                 \n45164      1   49  \n32084      0   70  \n67784      0   11  \n53797      0  157  \n8325       1  249  \n...      ...  ...  \n69735      1   50  \n68683      1   48  \n56570      1  100  \n17646      0   24  \n968        1  250  \n\n[9641 rows x 5 columns]",
      "text/html": "<div>\n<style scoped>\n    .dataframe tbody tr th:only-of-type {\n        vertical-align: middle;\n    }\n\n    .dataframe tbody tr th {\n        vertical-align: top;\n    }\n\n    .dataframe thead th {\n        text-align: right;\n    }\n</style>\n<table border=\"1\" class=\"dataframe\">\n  <thead>\n    <tr style=\"text-align: right;\">\n      <th></th>\n      <th>text</th>\n      <th>rating</th>\n      <th>length</th>\n      <th>label</th>\n      <th>len</th>\n    </tr>\n    <tr>\n      <th>id</th>\n      <th></th>\n      <th></th>\n      <th></th>\n      <th></th>\n      <th></th>\n    </tr>\n  </thead>\n  <tbody>\n    <tr>\n      <th>45164</th>\n      <td>наушник огонь звук отличный микрофон тоже хороший</td>\n      <td>5</td>\n      <td>0-50</td>\n      <td>1</td>\n      <td>49</td>\n    </tr>\n    <tr>\n      <th>32084</th>\n      <td>прислать б у всё распаковать в скотч и прислат...</td>\n      <td>1</td>\n      <td>50-100</td>\n      <td>0</td>\n      <td>70</td>\n    </tr>\n    <tr>\n      <th>67784</th>\n      <td>не работать</td>\n      <td>1</td>\n      <td>0-50</td>\n      <td>0</td>\n      <td>11</td>\n    </tr>\n    <tr>\n      <th>53797</th>\n      <td>здравствуйте прислать наушник но кейс вовсе не...</td>\n      <td>1</td>\n      <td>150-250</td>\n      <td>0</td>\n      <td>157</td>\n    </tr>\n    <tr>\n      <th>8325</th>\n      <td>всё очень понравиться прийти в полностью запеч...</td>\n      <td>5</td>\n      <td>150-250</td>\n      <td>1</td>\n      <td>249</td>\n    </tr>\n    <tr>\n      <th>...</th>\n      <td>...</td>\n      <td>...</td>\n      <td>...</td>\n      <td>...</td>\n      <td>...</td>\n    </tr>\n    <tr>\n      <th>69735</th>\n      <td>прислать в целость звук качественный рекомендо...</td>\n      <td>5</td>\n      <td>0-50</td>\n      <td>1</td>\n      <td>50</td>\n    </tr>\n    <tr>\n      <th>68683</th>\n      <td>понравиться абсолютно всё недостаток не заметить</td>\n      <td>5</td>\n      <td>0-50</td>\n      <td>1</td>\n      <td>48</td>\n    </tr>\n    <tr>\n      <th>56570</th>\n      <td>хороший наушник свой деньга стоять однозначно ...</td>\n      <td>5</td>\n      <td>50-100</td>\n      <td>1</td>\n      <td>100</td>\n    </tr>\n    <tr>\n      <th>17646</th>\n      <td>сломаться через три день</td>\n      <td>1</td>\n      <td>0-50</td>\n      <td>0</td>\n      <td>24</td>\n    </tr>\n    <tr>\n      <th>968</th>\n      <td>я в восторг наушник прислать зарядить и прораб...</td>\n      <td>5</td>\n      <td>150-250</td>\n      <td>1</td>\n      <td>250</td>\n    </tr>\n  </tbody>\n</table>\n<p>9641 rows × 5 columns</p>\n</div>"
     },
     "execution_count": 38,
     "metadata": {},
     "output_type": "execute_result"
    }
   ],
   "source": [
    "trainb"
   ],
   "metadata": {
    "collapsed": false
   }
  },
  {
   "cell_type": "code",
   "execution_count": 40,
   "outputs": [],
   "source": [
    "X = trainb['text']\n",
    "y = trainb['label']"
   ],
   "metadata": {
    "collapsed": false
   }
  },
  {
   "cell_type": "code",
   "execution_count": 41,
   "outputs": [
    {
     "name": "stdout",
     "output_type": "stream",
     "text": [
      "LinearSVC - 0.9698165583612433\n"
     ]
    }
   ],
   "source": [
    "score = cross_val_score(make_pipeline(CountVectorizer(), TfidfTransformer(), LinearSVC(random_state=777)), X, y, cv=5).mean()\n",
    "print(f\"LinearSVC - {score}\")"
   ],
   "metadata": {
    "collapsed": false
   }
  },
  {
   "cell_type": "code",
   "execution_count": 42,
   "outputs": [],
   "source": [
    "params_grid_vectorizer = {\n",
    "    'vectorizer__max_df': [0.85, 0.9, 0.95, 1.0],\n",
    "    'vectorizer__min_df': [1, 10, 20],\n",
    "    'vectorizer__ngram_range': [(1, 1), (1, 2), (1, 3), (1, 4), (1, 5), (1, 6)],\n",
    "    'vectorizer__stop_words': [stop_words, None]\n",
    "}\n",
    "params_grid_transformer = {\n",
    "    'transformer__norm': ['l1', 'l2'],\n",
    "    'transformer__smooth_idf': [True, False],\n",
    "    'transformer__use_idf': [True, False],\n",
    "    'transformer__sublinear_tf': [True, False]\n",
    "}\n",
    "params_grid_lsvc = {\n",
    "    'classifier__loss': ['hinge', 'squared_hinge'],\n",
    "    'classifier__max_iter': np.arange(200, 1000, 200),\n",
    "    'classifier__tol': [1e-5, 1e-4, 1e-3],\n",
    "    'classifier__C': [0.9, 1.0, 1.1, 1.2]\n",
    "}\n"
   ],
   "metadata": {
    "collapsed": false
   }
  },
  {
   "cell_type": "code",
   "execution_count": 43,
   "outputs": [
    {
     "name": "stdout",
     "output_type": "stream",
     "text": [
      "LinearSVC:\n",
      "Лучшее качество - 0.9753134619231687\n",
      "Параметры - {'vectorizer__stop_words': None, 'vectorizer__ngram_range': (1, 2), 'vectorizer__min_df': 1, 'vectorizer__max_df': 0.95, 'transformer__use_idf': False, 'transformer__sublinear_tf': False, 'transformer__smooth_idf': False, 'transformer__norm': 'l2', 'classifier__tol': 1e-05, 'classifier__max_iter': 200, 'classifier__loss': 'squared_hinge', 'classifier__C': 1.2}\n",
      "CPU times: total: 6min 55s\n",
      "Wall time: 7min 17s\n"
     ]
    }
   ],
   "source": [
    "%%time\n",
    "grid_search_lsvc = make_estimator(LinearSVC(random_state=777),\n",
    "                                  {**params_grid_vectorizer, **params_grid_transformer, **params_grid_lsvc}, 'accuracy', X, y)\n",
    "print(\"LinearSVC:\")\n",
    "print(f\"Лучшее качество - {grid_search_lsvc.best_score_}\")\n",
    "print(f\"Параметры - {grid_search_lsvc.best_params_}\")"
   ],
   "metadata": {
    "collapsed": false
   }
  },
  {
   "cell_type": "code",
   "execution_count": 44,
   "outputs": [
    {
     "data": {
      "text/plain": "[('vectorizer', CountVectorizer(max_df=0.95, ngram_range=(1, 2))),\n ('transformer', TfidfTransformer(smooth_idf=False, use_idf=False)),\n ('classifier', LinearSVC(C=1.2, max_iter=200, random_state=777, tol=1e-05))]"
     },
     "execution_count": 44,
     "metadata": {},
     "output_type": "execute_result"
    }
   ],
   "source": [
    "svc = grid_search_lsvc.best_estimator_\n",
    "svc.steps"
   ],
   "metadata": {
    "collapsed": false
   }
  },
  {
   "cell_type": "code",
   "execution_count": 69,
   "outputs": [],
   "source": [
    "import joblib"
   ],
   "metadata": {
    "collapsed": false
   }
  },
  {
   "cell_type": "code",
   "execution_count": 70,
   "outputs": [
    {
     "data": {
      "text/plain": "array([1], dtype=int64)"
     },
     "execution_count": 70,
     "metadata": {},
     "output_type": "execute_result"
    }
   ],
   "source": [
    "svc.predict(['любить много'])"
   ],
   "metadata": {
    "collapsed": false
   }
  },
  {
   "cell_type": "code",
   "execution_count": 71,
   "outputs": [
    {
     "data": {
      "text/plain": "['dumpsvc.sav']"
     },
     "execution_count": 71,
     "metadata": {},
     "output_type": "execute_result"
    }
   ],
   "source": [
    "joblib.dump(svc,'dumpsvc.sav')"
   ],
   "metadata": {
    "collapsed": false
   }
  },
  {
   "cell_type": "code",
   "execution_count": 72,
   "outputs": [],
   "source": [
    "loaded_model = joblib.load('dumpsvc.sav')"
   ],
   "metadata": {
    "collapsed": false
   }
  },
  {
   "cell_type": "code",
   "execution_count": 74,
   "outputs": [
    {
     "data": {
      "text/plain": "array([0], dtype=int64)"
     },
     "execution_count": 74,
     "metadata": {},
     "output_type": "execute_result"
    }
   ],
   "source": [
    "loaded_model.predict(['не любить много'])"
   ],
   "metadata": {
    "collapsed": false
   }
  },
  {
   "cell_type": "code",
   "execution_count": null,
   "outputs": [],
   "source": [],
   "metadata": {
    "collapsed": false
   }
  }
 ],
 "metadata": {
  "kernelspec": {
   "display_name": "Python 3",
   "language": "python",
   "name": "python3"
  },
  "language_info": {
   "codemirror_mode": {
    "name": "ipython",
    "version": 2
   },
   "file_extension": ".py",
   "mimetype": "text/x-python",
   "name": "python",
   "nbconvert_exporter": "python",
   "pygments_lexer": "ipython2",
   "version": "2.7.6"
  }
 },
 "nbformat": 4,
 "nbformat_minor": 0
}
